{
 "cells": [
  {
   "attachments": {},
   "cell_type": "markdown",
   "metadata": {},
   "source": [
    "A primeira empresa, Bloco de Código, precisa de um dashboard para monitorar a sua campanha de marketing durante o ano que a campanha foi realizada.\n",
    "\n",
    "![](assets/logo-bloco-de-codigo.png)"
   ]
  },
  {
   "attachments": {},
   "cell_type": "markdown",
   "metadata": {},
   "source": [
    "### Explorando os dados"
   ]
  },
  {
   "cell_type": "code",
   "execution_count": 39,
   "metadata": {},
   "outputs": [],
   "source": [
    "import pandas as pd\n",
    "import numpy as np"
   ]
  },
  {
   "cell_type": "code",
   "execution_count": 40,
   "metadata": {},
   "outputs": [
    {
     "data": {
      "text/html": [
       "<div>\n",
       "<style scoped>\n",
       "    .dataframe tbody tr th:only-of-type {\n",
       "        vertical-align: middle;\n",
       "    }\n",
       "\n",
       "    .dataframe tbody tr th {\n",
       "        vertical-align: top;\n",
       "    }\n",
       "\n",
       "    .dataframe thead th {\n",
       "        text-align: right;\n",
       "    }\n",
       "</style>\n",
       "<table border=\"1\" class=\"dataframe\">\n",
       "  <thead>\n",
       "    <tr style=\"text-align: right;\">\n",
       "      <th></th>\n",
       "      <th>Campanha</th>\n",
       "      <th>Visitas Diretas</th>\n",
       "      <th>Novos usuários únicos</th>\n",
       "      <th>Clicks pagos</th>\n",
       "      <th>Clicks redes sociais</th>\n",
       "      <th>Vezes pesquisados</th>\n",
       "    </tr>\n",
       "  </thead>\n",
       "  <tbody>\n",
       "    <tr>\n",
       "      <th>count</th>\n",
       "      <td>14104.0</td>\n",
       "      <td>14104.000000</td>\n",
       "      <td>14104.000000</td>\n",
       "      <td>14105.000000</td>\n",
       "      <td>14104.000000</td>\n",
       "      <td>14104.000000</td>\n",
       "    </tr>\n",
       "    <tr>\n",
       "      <th>mean</th>\n",
       "      <td>1047.0</td>\n",
       "      <td>93.232420</td>\n",
       "      <td>116.103359</td>\n",
       "      <td>1.596260</td>\n",
       "      <td>144.395955</td>\n",
       "      <td>61.220490</td>\n",
       "    </tr>\n",
       "    <tr>\n",
       "      <th>std</th>\n",
       "      <td>0.0</td>\n",
       "      <td>158.550484</td>\n",
       "      <td>174.454669</td>\n",
       "      <td>25.763735</td>\n",
       "      <td>194.516718</td>\n",
       "      <td>128.602467</td>\n",
       "    </tr>\n",
       "    <tr>\n",
       "      <th>min</th>\n",
       "      <td>1047.0</td>\n",
       "      <td>0.000000</td>\n",
       "      <td>0.000000</td>\n",
       "      <td>0.000000</td>\n",
       "      <td>0.000000</td>\n",
       "      <td>0.000000</td>\n",
       "    </tr>\n",
       "    <tr>\n",
       "      <th>25%</th>\n",
       "      <td>1047.0</td>\n",
       "      <td>11.000000</td>\n",
       "      <td>15.000000</td>\n",
       "      <td>0.000000</td>\n",
       "      <td>19.000000</td>\n",
       "      <td>6.000000</td>\n",
       "    </tr>\n",
       "    <tr>\n",
       "      <th>50%</th>\n",
       "      <td>1047.0</td>\n",
       "      <td>32.000000</td>\n",
       "      <td>45.000000</td>\n",
       "      <td>0.000000</td>\n",
       "      <td>61.000000</td>\n",
       "      <td>16.000000</td>\n",
       "    </tr>\n",
       "    <tr>\n",
       "      <th>75%</th>\n",
       "      <td>1047.0</td>\n",
       "      <td>97.000000</td>\n",
       "      <td>137.250000</td>\n",
       "      <td>0.000000</td>\n",
       "      <td>187.000000</td>\n",
       "      <td>51.000000</td>\n",
       "    </tr>\n",
       "    <tr>\n",
       "      <th>max</th>\n",
       "      <td>1047.0</td>\n",
       "      <td>999.000000</td>\n",
       "      <td>998.000000</td>\n",
       "      <td>842.000000</td>\n",
       "      <td>998.000000</td>\n",
       "      <td>998.000000</td>\n",
       "    </tr>\n",
       "  </tbody>\n",
       "</table>\n",
       "</div>"
      ],
      "text/plain": [
       "       Campanha  Visitas Diretas  Novos usuários únicos  Clicks pagos  \\\n",
       "count   14104.0     14104.000000           14104.000000  14105.000000   \n",
       "mean     1047.0        93.232420             116.103359      1.596260   \n",
       "std         0.0       158.550484             174.454669     25.763735   \n",
       "min      1047.0         0.000000               0.000000      0.000000   \n",
       "25%      1047.0        11.000000              15.000000      0.000000   \n",
       "50%      1047.0        32.000000              45.000000      0.000000   \n",
       "75%      1047.0        97.000000             137.250000      0.000000   \n",
       "max      1047.0       999.000000             998.000000    842.000000   \n",
       "\n",
       "       Clicks redes sociais  Vezes pesquisados  \n",
       "count          14104.000000       14104.000000  \n",
       "mean             144.395955          61.220490  \n",
       "std              194.516718         128.602467  \n",
       "min                0.000000           0.000000  \n",
       "25%               19.000000           6.000000  \n",
       "50%               61.000000          16.000000  \n",
       "75%              187.000000          51.000000  \n",
       "max              998.000000         998.000000  "
      ]
     },
     "execution_count": 40,
     "metadata": {},
     "output_type": "execute_result"
    }
   ],
   "source": [
    "dados_artigos = pd.read_csv(\"assets/campanha bloco de código - Artigos.csv\")\n",
    "dados_artigos.describe()"
   ]
  },
  {
   "cell_type": "code",
   "execution_count": 41,
   "metadata": {},
   "outputs": [
    {
     "name": "stdout",
     "output_type": "stream",
     "text": [
      "<class 'pandas.core.frame.DataFrame'>\n",
      "RangeIndex: 14105 entries, 0 to 14104\n",
      "Data columns (total 12 columns):\n",
      " #   Column                      Non-Null Count  Dtype  \n",
      "---  ------                      --------------  -----  \n",
      " 0   Article URL                 14104 non-null  object \n",
      " 1   Nome do artigo              14104 non-null  object \n",
      " 2   Categoria                   14104 non-null  object \n",
      " 3   Campanha                    14104 non-null  float64\n",
      " 4   Data                        14104 non-null  object \n",
      " 5   Visitas Diretas             14104 non-null  float64\n",
      " 6   Novos usuários únicos       14104 non-null  float64\n",
      " 7   Clicks pagos                14105 non-null  float64\n",
      " 8   Tempo de leitura (minutos)  14104 non-null  object \n",
      " 9   Clicks redes sociais        14104 non-null  float64\n",
      " 10  Vezes pesquisados           14104 non-null  float64\n",
      " 11  Visualizações               14104 non-null  object \n",
      "dtypes: float64(6), object(6)\n",
      "memory usage: 1.3+ MB\n"
     ]
    }
   ],
   "source": [
    "dados_artigos.info()"
   ]
  },
  {
   "cell_type": "code",
   "execution_count": 42,
   "metadata": {},
   "outputs": [
    {
     "data": {
      "text/plain": [
       "(14105, 12)"
      ]
     },
     "execution_count": 42,
     "metadata": {},
     "output_type": "execute_result"
    }
   ],
   "source": [
    "# Informação da quantidade de colunas e linhas\n",
    "dados_artigos.shape"
   ]
  },
  {
   "cell_type": "code",
   "execution_count": 43,
   "metadata": {},
   "outputs": [
    {
     "data": {
      "text/plain": [
       "Article URL                   0.00709\n",
       "Nome do artigo                0.00709\n",
       "Categoria                     0.00709\n",
       "Campanha                      0.00709\n",
       "Data                          0.00709\n",
       "Visitas Diretas               0.00709\n",
       "Novos usuários únicos         0.00709\n",
       "Clicks pagos                  0.00000\n",
       "Tempo de leitura (minutos)    0.00709\n",
       "Clicks redes sociais          0.00709\n",
       "Vezes pesquisados             0.00709\n",
       "Visualizações                 0.00709\n",
       "dtype: float64"
      ]
     },
     "execution_count": 43,
     "metadata": {},
     "output_type": "execute_result"
    }
   ],
   "source": [
    "(dados_artigos.isnull().sum() / dados_artigos.shape[0]) * 100"
   ]
  },
  {
   "attachments": {},
   "cell_type": "markdown",
   "metadata": {},
   "source": [
    "### Transformando Dados"
   ]
  },
  {
   "cell_type": "code",
   "execution_count": 49,
   "metadata": {},
   "outputs": [],
   "source": [
    "# Apagando dados NaN - menos de 1%, no caso uma linha que havia total\n",
    "dados_artigos.dropna(inplace=True)"
   ]
  },
  {
   "cell_type": "code",
   "execution_count": 84,
   "metadata": {},
   "outputs": [
    {
     "name": "stdout",
     "output_type": "stream",
     "text": [
      "<class 'pandas.core.frame.DataFrame'>\n",
      "Index: 14104 entries, 0 to 14103\n",
      "Data columns (total 17 columns):\n",
      " #   Column                        Non-Null Count  Dtype         \n",
      "---  ------                        --------------  -----         \n",
      " 0   Article URL                   14104 non-null  object        \n",
      " 1   Nome do artigo                14104 non-null  object        \n",
      " 2   Categoria                     14104 non-null  object        \n",
      " 3   Campanha                      14104 non-null  float64       \n",
      " 4   Data                          14104 non-null  datetime64[ns]\n",
      " 5   Visitas Diretas               14104 non-null  float64       \n",
      " 6   Novos usuários únicos         14104 non-null  float64       \n",
      " 7   Clicks pagos                  14104 non-null  float64       \n",
      " 8   Tempo de leitura (minutos)    14104 non-null  int64         \n",
      " 9   Clicks redes sociais          14104 non-null  float64       \n",
      " 10  Vezes pesquisados             14104 non-null  float64       \n",
      " 11  Visualizações                 14104 non-null  int64         \n",
      " 12  TotalCliques                  14104 non-null  float64       \n",
      " 13  CTR                           14097 non-null  float64       \n",
      " 14  PercentualCliqueRedesSociais  13209 non-null  float64       \n",
      " 15  PercentualVezPesquisado       14097 non-null  float64       \n",
      " 16  PercentualCliquesPagos        14097 non-null  float64       \n",
      "dtypes: datetime64[ns](1), float64(11), int64(2), object(3)\n",
      "memory usage: 1.9+ MB\n"
     ]
    }
   ],
   "source": [
    "dados_artigos.info()"
   ]
  },
  {
   "cell_type": "code",
   "execution_count": 61,
   "metadata": {},
   "outputs": [],
   "source": [
    "# Convertando string em datetime\n",
    "dados_artigos[\"Data\"] = pd.to_datetime(dados_artigos[\"Data\"])"
   ]
  },
  {
   "cell_type": "code",
   "execution_count": 64,
   "metadata": {},
   "outputs": [],
   "source": [
    "# Trantando Coluna Tempo de Leitura removendo espaços\n",
    "dados_artigos[\"Tempo de leitura (minutos)\"] = dados_artigos[\"Tempo de leitura (minutos)\"].str.strip()"
   ]
  },
  {
   "cell_type": "code",
   "execution_count": 65,
   "metadata": {},
   "outputs": [],
   "source": [
    "# Trantando Coluna Tempo de Leitura removendo pontos\n",
    "dados_artigos[\"Tempo de leitura (minutos)\"] = dados_artigos[\"Tempo de leitura (minutos)\"].str.replace(\".\", \"\")"
   ]
  },
  {
   "cell_type": "code",
   "execution_count": 67,
   "metadata": {},
   "outputs": [],
   "source": [
    "# Trantando Coluna Tempo de Leitura convertendo de string para int\n",
    "dados_artigos[\"Tempo de leitura (minutos)\"] = pd.to_numeric(dados_artigos[\"Tempo de leitura (minutos)\"])"
   ]
  },
  {
   "cell_type": "code",
   "execution_count": 69,
   "metadata": {},
   "outputs": [],
   "source": [
    "# Trantando Coluna Visualizações removendo espaços\n",
    "dados_artigos[\"Visualizações\"] = dados_artigos[\"Visualizações\"].str.strip()"
   ]
  },
  {
   "cell_type": "code",
   "execution_count": 70,
   "metadata": {},
   "outputs": [],
   "source": [
    "# Trantando Coluna Visualizações removendo pontos\n",
    "dados_artigos[\"Visualizações\"] = dados_artigos[\"Visualizações\"].str.replace(\".\", \"\")"
   ]
  },
  {
   "cell_type": "code",
   "execution_count": 71,
   "metadata": {},
   "outputs": [],
   "source": [
    "# Trantando Coluna Visualizações convertendo de string para int\n",
    "dados_artigos[\"Visualizações\"] = pd.to_numeric(dados_artigos[\"Visualizações\"])"
   ]
  },
  {
   "attachments": {},
   "cell_type": "markdown",
   "metadata": {},
   "source": [
    "### Gerando informações"
   ]
  },
  {
   "cell_type": "code",
   "execution_count": 74,
   "metadata": {},
   "outputs": [
    {
     "data": {
      "text/plain": [
       "0        889.242\n",
       "1        708.374\n",
       "2        532.416\n",
       "3        491.405\n",
       "4        384.634\n",
       "          ...   \n",
       "14099      0.000\n",
       "14100      0.000\n",
       "14101      0.000\n",
       "14102      0.000\n",
       "14103      0.000\n",
       "Name: TotalCliques, Length: 14104, dtype: float64"
      ]
     },
     "execution_count": 74,
     "metadata": {},
     "output_type": "execute_result"
    }
   ],
   "source": [
    "# Total de Clique\n",
    "dados_artigos[\"TotalCliques\"] = dados_artigos[\"Clicks pagos\"] + dados_artigos[\"Clicks redes sociais\"]\n",
    "dados_artigos[\"TotalCliques\"]"
   ]
  },
  {
   "cell_type": "code",
   "execution_count": 76,
   "metadata": {},
   "outputs": [
    {
     "data": {
      "text/plain": [
       "0        100.0\n",
       "1        100.0\n",
       "2        100.0\n",
       "3        100.0\n",
       "4        100.0\n",
       "         ...  \n",
       "14099      NaN\n",
       "14100      NaN\n",
       "14101      NaN\n",
       "14102      NaN\n",
       "14103      NaN\n",
       "Name: PercentualCliqueRedesSociais, Length: 14104, dtype: float64"
      ]
     },
     "execution_count": 76,
     "metadata": {},
     "output_type": "execute_result"
    }
   ],
   "source": [
    "# Percentual de Cliques obtidos nas redes sociais\n",
    "dados_artigos[\"PercentualCliqueRedesSociais\"] = (dados_artigos[\"Clicks redes sociais\"] / dados_artigos[\"TotalCliques\"]) * 100\n",
    "dados_artigos[\"PercentualCliqueRedesSociais\"]"
   ]
  },
  {
   "cell_type": "code",
   "execution_count": 78,
   "metadata": {},
   "outputs": [
    {
     "data": {
      "text/plain": [
       "0        0.051999\n",
       "1        0.051996\n",
       "2        0.051996\n",
       "3        0.051995\n",
       "4        0.051999\n",
       "           ...   \n",
       "14099         NaN\n",
       "14100         NaN\n",
       "14101         NaN\n",
       "14102         NaN\n",
       "14103         NaN\n",
       "Name: CTR, Length: 14104, dtype: float64"
      ]
     },
     "execution_count": 78,
     "metadata": {},
     "output_type": "execute_result"
    }
   ],
   "source": [
    "# Percentual CTR Click Through Rate = Total de Clique / Total de Visualizações\n",
    "dados_artigos[\"CTR\"] = (dados_artigos[\"TotalCliques\"] / dados_artigos[\"Visualizações\"]) * 100\n",
    "dados_artigos[\"CTR\"]"
   ]
  },
  {
   "cell_type": "code",
   "execution_count": 80,
   "metadata": {},
   "outputs": [
    {
     "data": {
      "text/plain": [
       "0        0.009000\n",
       "1        0.008999\n",
       "2        0.008999\n",
       "3        0.008999\n",
       "4        0.009000\n",
       "           ...   \n",
       "14099         NaN\n",
       "14100         NaN\n",
       "14101         NaN\n",
       "14102         NaN\n",
       "14103         NaN\n",
       "Name: PercentualVezPesquisado, Length: 14104, dtype: float64"
      ]
     },
     "execution_count": 80,
     "metadata": {},
     "output_type": "execute_result"
    }
   ],
   "source": [
    "# Percentual de vezes pesquisados\n",
    "dados_artigos[\"PercentualVezPesquisado\"] = (dados_artigos[\"Vezes pesquisados\"] / dados_artigos[\"Visualizações\"]) * 100\n",
    "dados_artigos[\"PercentualVezPesquisado\"]"
   ]
  },
  {
   "cell_type": "code",
   "execution_count": 83,
   "metadata": {},
   "outputs": [
    {
     "data": {
      "text/plain": [
       "0        0.0\n",
       "1        0.0\n",
       "2        0.0\n",
       "3        0.0\n",
       "4        0.0\n",
       "        ... \n",
       "14099    NaN\n",
       "14100    NaN\n",
       "14101    NaN\n",
       "14102    NaN\n",
       "14103    NaN\n",
       "Name: PercentualCliquesPagos, Length: 14104, dtype: float64"
      ]
     },
     "execution_count": 83,
     "metadata": {},
     "output_type": "execute_result"
    }
   ],
   "source": [
    "# Percentual de cliques pagos\n",
    "dados_artigos[\"PercentualCliquesPagos\"] = (dados_artigos[\"Clicks pagos\"] / dados_artigos[\"Visualizações\"]) * 100\n",
    "dados_artigos[\"PercentualCliquesPagos\"]"
   ]
  },
  {
   "cell_type": "code",
   "execution_count": 85,
   "metadata": {},
   "outputs": [
    {
     "data": {
      "text/plain": [
       "0        0.020000\n",
       "1        0.019999\n",
       "2        0.019998\n",
       "3        0.019998\n",
       "4        0.020000\n",
       "           ...   \n",
       "14099         NaN\n",
       "14100         NaN\n",
       "14101         NaN\n",
       "14102         NaN\n",
       "14103         NaN\n",
       "Name: PercentualVisitasDiritas, Length: 14104, dtype: float64"
      ]
     },
     "execution_count": 85,
     "metadata": {},
     "output_type": "execute_result"
    }
   ],
   "source": [
    "# percentual de visitas diretas\n",
    "dados_artigos[\"PercentualVisitasDiritas\"] = (dados_artigos[\"Visitas Diretas\"] / dados_artigos[\"Visualizações\"]) * 100\n",
    "dados_artigos[\"PercentualVisitasDiritas\"]"
   ]
  },
  {
   "cell_type": "code",
   "execution_count": null,
   "metadata": {},
   "outputs": [],
   "source": []
  }
 ],
 "metadata": {
  "kernelspec": {
   "display_name": ".venv",
   "language": "python",
   "name": "python3"
  },
  "language_info": {
   "codemirror_mode": {
    "name": "ipython",
    "version": 3
   },
   "file_extension": ".py",
   "mimetype": "text/x-python",
   "name": "python",
   "nbconvert_exporter": "python",
   "pygments_lexer": "ipython3",
   "version": "3.10.6"
  },
  "orig_nbformat": 4
 },
 "nbformat": 4,
 "nbformat_minor": 2
}
