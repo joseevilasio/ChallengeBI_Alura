{
 "cells": [
  {
   "attachments": {},
   "cell_type": "markdown",
   "metadata": {},
   "source": [
    "A primeira empresa, Bloco de Código, precisa de um dashboard para monitorar a sua campanha de marketing durante o ano que a campanha foi realizada.\n",
    "\n",
    "![](assets/logo-bloco-de-codigo.png)"
   ]
  },
  {
   "attachments": {},
   "cell_type": "markdown",
   "metadata": {},
   "source": [
    "### Explorando os dados"
   ]
  },
  {
   "cell_type": "code",
   "execution_count": 149,
   "metadata": {},
   "outputs": [],
   "source": [
    "import pandas as pd\n",
    "import matplotlib.pyplot as plt\n",
    "import seaborn as sns\n",
    "import seaborn.objects as so"
   ]
  },
  {
   "cell_type": "code",
   "execution_count": 72,
   "metadata": {},
   "outputs": [],
   "source": [
    "# Carregando o dataset\n",
    "dados_artigos = pd.read_csv(\"assets/campanha bloco de código - Artigos.csv\", decimal=\",\")"
   ]
  },
  {
   "cell_type": "code",
   "execution_count": 73,
   "metadata": {},
   "outputs": [
    {
     "name": "stdout",
     "output_type": "stream",
     "text": [
      "<class 'pandas.core.frame.DataFrame'>\n",
      "RangeIndex: 14105 entries, 0 to 14104\n",
      "Data columns (total 12 columns):\n",
      " #   Column                      Non-Null Count  Dtype  \n",
      "---  ------                      --------------  -----  \n",
      " 0   Article URL                 14104 non-null  object \n",
      " 1   Nome do artigo              14104 non-null  object \n",
      " 2   Categoria                   14104 non-null  object \n",
      " 3   Campanha                    14104 non-null  float64\n",
      " 4   Data                        14104 non-null  object \n",
      " 5   Visitas Diretas             14104 non-null  object \n",
      " 6   Novos usuários únicos       14104 non-null  object \n",
      " 7   Clicks pagos                14105 non-null  object \n",
      " 8   Tempo de leitura (minutos)  14104 non-null  object \n",
      " 9   Clicks redes sociais        14104 non-null  object \n",
      " 10  Vezes pesquisados           14104 non-null  object \n",
      " 11  Visualizações               14104 non-null  object \n",
      "dtypes: float64(1), object(11)\n",
      "memory usage: 1.3+ MB\n"
     ]
    }
   ],
   "source": [
    "# Quais tipos de dados temos em cada coluna\n",
    "dados_artigos.info()"
   ]
  },
  {
   "cell_type": "code",
   "execution_count": 74,
   "metadata": {},
   "outputs": [
    {
     "data": {
      "text/plain": [
       "(14105, 12)"
      ]
     },
     "execution_count": 74,
     "metadata": {},
     "output_type": "execute_result"
    }
   ],
   "source": [
    "# Informação da quantidade de colunas e linhas\n",
    "dados_artigos.shape"
   ]
  },
  {
   "cell_type": "code",
   "execution_count": 75,
   "metadata": {},
   "outputs": [
    {
     "data": {
      "text/plain": [
       "Article URL                   0.00709\n",
       "Nome do artigo                0.00709\n",
       "Categoria                     0.00709\n",
       "Campanha                      0.00709\n",
       "Data                          0.00709\n",
       "Visitas Diretas               0.00709\n",
       "Novos usuários únicos         0.00709\n",
       "Clicks pagos                  0.00000\n",
       "Tempo de leitura (minutos)    0.00709\n",
       "Clicks redes sociais          0.00709\n",
       "Vezes pesquisados             0.00709\n",
       "Visualizações                 0.00709\n",
       "dtype: float64"
      ]
     },
     "execution_count": 75,
     "metadata": {},
     "output_type": "execute_result"
    }
   ],
   "source": [
    "# Percentual de NaN por coluna\n",
    "(dados_artigos.isnull().sum() / dados_artigos.shape[0]) * 100"
   ]
  },
  {
   "attachments": {},
   "cell_type": "markdown",
   "metadata": {},
   "source": [
    "### Transformando Dados"
   ]
  },
  {
   "cell_type": "code",
   "execution_count": 76,
   "metadata": {},
   "outputs": [],
   "source": [
    "# Apagando dados NaN - menos de 1%, no caso uma linha que havia total\n",
    "dados_artigos.dropna(inplace=True)"
   ]
  },
  {
   "cell_type": "code",
   "execution_count": 77,
   "metadata": {},
   "outputs": [],
   "source": [
    "# Convertando string em datetime\n",
    "dados_artigos[\"Data\"] = pd.to_datetime(dados_artigos[\"Data\"])"
   ]
  },
  {
   "cell_type": "code",
   "execution_count": 78,
   "metadata": {},
   "outputs": [],
   "source": [
    "# Trantando Coluna Tempo de Leitura removendo espaços\n",
    "# Trantando Coluna Tempo de Leitura removendo pontos\n",
    "# Trantando Coluna Tempo de Leitura convertendo de string para int\n",
    "dados_artigos[\"Tempo de leitura (minutos)\"] = dados_artigos[\"Tempo de leitura (minutos)\"].str.strip()\n",
    "dados_artigos[\"Tempo de leitura (minutos)\"] = dados_artigos[\"Tempo de leitura (minutos)\"].str.replace(\".\", \"\")\n",
    "dados_artigos[\"Tempo de leitura (minutos)\"] = pd.to_numeric(dados_artigos[\"Tempo de leitura (minutos)\"])"
   ]
  },
  {
   "cell_type": "code",
   "execution_count": 79,
   "metadata": {},
   "outputs": [],
   "source": [
    "# Trantando Coluna Visitas Diretas removendo espaços\n",
    "# Trantando Coluna Visitas Diretas removendo pontos\n",
    "# Trantando Coluna Visitas Diretas convertendo de string para int\n",
    "dados_artigos[\"Visitas Diretas\"] = dados_artigos[\"Visitas Diretas\"].str.strip()\n",
    "dados_artigos[\"Visitas Diretas\"] = dados_artigos[\"Visitas Diretas\"].str.replace(\".\", \"\")\n",
    "dados_artigos[\"Visitas Diretas\"] = pd.to_numeric(dados_artigos[\"Visitas Diretas\"])"
   ]
  },
  {
   "cell_type": "code",
   "execution_count": 80,
   "metadata": {},
   "outputs": [],
   "source": [
    "# Trantando Coluna Novos usuários únicos removendo espaços\n",
    "dados_artigos[\"Novos usuários únicos\"] = dados_artigos[\"Novos usuários únicos\"].str.strip()\n",
    "# Trantando Coluna Novos usuários únicos removendo pontos\n",
    "dados_artigos[\"Novos usuários únicos\"] = dados_artigos[\"Novos usuários únicos\"].str.replace(\".\", \"\")\n",
    "# Trantando Coluna Novos usuários únicos convertendo de string para int\n",
    "dados_artigos[\"Novos usuários únicos\"] = pd.to_numeric(dados_artigos[\"Novos usuários únicos\"])"
   ]
  },
  {
   "cell_type": "code",
   "execution_count": 81,
   "metadata": {},
   "outputs": [],
   "source": [
    "# Trantando Coluna Visualizações removendo espaços\n",
    "dados_artigos[\"Visualizações\"] = dados_artigos[\"Visualizações\"].str.strip()\n",
    "# Trantando Coluna Visualizações removendo pontos\n",
    "dados_artigos[\"Visualizações\"] = dados_artigos[\"Visualizações\"].str.replace(\".\", \"\")\n",
    "# Trantando Coluna Visualizações convertendo de string para int\n",
    "dados_artigos[\"Visualizações\"] = pd.to_numeric(dados_artigos[\"Visualizações\"])"
   ]
  },
  {
   "cell_type": "code",
   "execution_count": 82,
   "metadata": {},
   "outputs": [],
   "source": [
    "# Trantando Coluna Clicks pagos removendo espaços\n",
    "dados_artigos[\"Clicks pagos\"] = dados_artigos[\"Clicks pagos\"].str.strip()\n",
    "# Trantando Coluna Clicks pagos removendo pontos\n",
    "dados_artigos[\"Clicks pagos\"] = dados_artigos[\"Clicks pagos\"].str.replace(\".\", \"\")\n",
    "# Trantando Coluna Clicks pagos convertendo de string para int\n",
    "dados_artigos[\"Clicks pagos\"] = pd.to_numeric(dados_artigos[\"Clicks pagos\"])"
   ]
  },
  {
   "cell_type": "code",
   "execution_count": 83,
   "metadata": {},
   "outputs": [],
   "source": [
    "# Trantando Coluna Clicks redes sociais removendo espaços\n",
    "dados_artigos[\"Clicks redes sociais\"] = dados_artigos[\"Clicks redes sociais\"].str.strip()\n",
    "# Trantando Coluna Clicks redes sociais removendo pontos\n",
    "dados_artigos[\"Clicks redes sociais\"] = dados_artigos[\"Clicks redes sociais\"].str.replace(\".\", \"\")\n",
    "# Trantando Coluna Clicks redes sociais convertendo de string para int\n",
    "dados_artigos[\"Clicks redes sociais\"] = pd.to_numeric(dados_artigos[\"Clicks redes sociais\"])"
   ]
  },
  {
   "cell_type": "code",
   "execution_count": 85,
   "metadata": {},
   "outputs": [
    {
     "data": {
      "text/plain": [
       "Categoria\n",
       "Gestão          4936\n",
       "Data Science    3791\n",
       "Tecnologia      2095\n",
       "Negócios        1104\n",
       "UX               825\n",
       "DevOps           780\n",
       "Programação      474\n",
       "Marketing         99\n",
       "Name: count, dtype: int64"
      ]
     },
     "execution_count": 85,
     "metadata": {},
     "output_type": "execute_result"
    }
   ],
   "source": [
    "# Categorias\n",
    "dados_artigos[\"Categoria\"].value_counts()"
   ]
  },
  {
   "cell_type": "code",
   "execution_count": 86,
   "metadata": {},
   "outputs": [
    {
     "data": {
      "text/plain": [
       "Nome do artigo\n",
       "Recomendações de experiência do usuário                         183\n",
       "Equilibrando a criatividade e continuidade                      182\n",
       "Como ler seu trabalho em voz alta melhora sua escrita           180\n",
       "Treinando efetivamente suas novas contratações                  175\n",
       "Tecnologia em que você deve investir agora                      173\n",
       "                                                               ... \n",
       "6 maneiras de aumentar sua taxa de engajamento                    1\n",
       "O maior equívoco sobre nuvem                                      1\n",
       "Pense novamente: quem é sua maior competição?                     1\n",
       "5 Estratégias para fornecer feedback dos funcionários             1\n",
       "Como usar o feedback para acelerar o crescimento da carreira      1\n",
       "Name: count, Length: 168, dtype: int64"
      ]
     },
     "execution_count": 86,
     "metadata": {},
     "output_type": "execute_result"
    }
   ],
   "source": [
    "# Artigos\n",
    "dados_artigos[\"Nome do artigo\"].value_counts()"
   ]
  },
  {
   "cell_type": "code",
   "execution_count": 87,
   "metadata": {},
   "outputs": [
    {
     "data": {
      "text/plain": [
       "168"
      ]
     },
     "execution_count": 87,
     "metadata": {},
     "output_type": "execute_result"
    }
   ],
   "source": [
    "# Quantidade de artigos únicos\n",
    "quant_artigos = len(dados_artigos[\"Nome do artigo\"].unique())\n",
    "quant_artigos"
   ]
  },
  {
   "cell_type": "code",
   "execution_count": 88,
   "metadata": {},
   "outputs": [
    {
     "data": {
      "text/plain": [
       "['Gestão',\n",
       " 'Data Science',\n",
       " 'Tecnologia',\n",
       " 'Negócios',\n",
       " 'Programação',\n",
       " 'DevOps',\n",
       " 'UX',\n",
       " 'Marketing']"
      ]
     },
     "execution_count": 88,
     "metadata": {},
     "output_type": "execute_result"
    }
   ],
   "source": [
    "lista_categorias = list(dados_artigos[\"Categoria\"].unique())\n",
    "lista_categorias"
   ]
  },
  {
   "cell_type": "code",
   "execution_count": 89,
   "metadata": {},
   "outputs": [
    {
     "name": "stdout",
     "output_type": "stream",
     "text": [
      "<class 'pandas.core.frame.DataFrame'>\n",
      "Index: 14104 entries, 0 to 14103\n",
      "Data columns (total 12 columns):\n",
      " #   Column                      Non-Null Count  Dtype         \n",
      "---  ------                      --------------  -----         \n",
      " 0   Article URL                 14104 non-null  object        \n",
      " 1   Nome do artigo              14104 non-null  object        \n",
      " 2   Categoria                   14104 non-null  object        \n",
      " 3   Campanha                    14104 non-null  float64       \n",
      " 4   Data                        14104 non-null  datetime64[ns]\n",
      " 5   Visitas Diretas             14104 non-null  int64         \n",
      " 6   Novos usuários únicos       14104 non-null  int64         \n",
      " 7   Clicks pagos                14104 non-null  int64         \n",
      " 8   Tempo de leitura (minutos)  14104 non-null  int64         \n",
      " 9   Clicks redes sociais        14104 non-null  int64         \n",
      " 10  Vezes pesquisados           14104 non-null  int64         \n",
      " 11  Visualizações               14104 non-null  int64         \n",
      "dtypes: datetime64[ns](1), float64(1), int64(7), object(3)\n",
      "memory usage: 1.4+ MB\n"
     ]
    }
   ],
   "source": [
    "dados_artigos.info()"
   ]
  },
  {
   "attachments": {},
   "cell_type": "markdown",
   "metadata": {},
   "source": [
    "### Gerando informações"
   ]
  },
  {
   "cell_type": "code",
   "execution_count": 120,
   "metadata": {},
   "outputs": [
    {
     "data": {
      "text/plain": [
       "19708819"
      ]
     },
     "execution_count": 120,
     "metadata": {},
     "output_type": "execute_result"
    }
   ],
   "source": [
    "# Total de Clique\n",
    "dados_artigos[\"TotalCliques\"] = dados_artigos[\"Clicks pagos\"] + dados_artigos[\"Clicks redes sociais\"]\n",
    "dados_artigos[\"TotalCliques\"].sum()"
   ]
  },
  {
   "cell_type": "code",
   "execution_count": 91,
   "metadata": {},
   "outputs": [
    {
     "data": {
      "text/plain": [
       "0        51.998746\n",
       "1        51.996286\n",
       "2        51.996137\n",
       "3        51.995137\n",
       "4        51.999070\n",
       "           ...    \n",
       "14099          NaN\n",
       "14100          NaN\n",
       "14101          NaN\n",
       "14102          NaN\n",
       "14103          NaN\n",
       "Name: PercentualCliqueRedesSociais, Length: 14104, dtype: float64"
      ]
     },
     "execution_count": 91,
     "metadata": {},
     "output_type": "execute_result"
    }
   ],
   "source": [
    "# Percentual de Cliques obtidos nas redes sociais\n",
    "dados_artigos[\"PercentualCliqueRedesSociais\"] = (dados_artigos[\"Clicks redes sociais\"] / dados_artigos[\"Visualizações\"]) * 100\n",
    "dados_artigos[\"PercentualCliqueRedesSociais\"]"
   ]
  },
  {
   "cell_type": "code",
   "execution_count": 121,
   "metadata": {},
   "outputs": [
    {
     "data": {
      "text/plain": [
       "51.0310824039937"
      ]
     },
     "execution_count": 121,
     "metadata": {},
     "output_type": "execute_result"
    }
   ],
   "source": [
    "# Total - Percentual de Cliques obtidos nas redes sociais\n",
    "(dados_artigos[\"Clicks redes sociais\"].sum() / dados_artigos[\"Visualizações\"].sum()) * 100"
   ]
  },
  {
   "cell_type": "code",
   "execution_count": 93,
   "metadata": {},
   "outputs": [
    {
     "data": {
      "text/plain": [
       "0        51.998746\n",
       "1        51.996286\n",
       "2        51.996137\n",
       "3        51.995137\n",
       "4        51.999070\n",
       "           ...    \n",
       "14099          NaN\n",
       "14100          NaN\n",
       "14101          NaN\n",
       "14102          NaN\n",
       "14103          NaN\n",
       "Name: CTR, Length: 14104, dtype: float64"
      ]
     },
     "execution_count": 93,
     "metadata": {},
     "output_type": "execute_result"
    }
   ],
   "source": [
    "# Percentual CTR Click Through Rate = Total de Clique / Total de Visualizações\n",
    "dados_artigos[\"CTR\"] = (dados_artigos[\"TotalCliques\"] / dados_artigos[\"Visualizações\"]) * 100\n",
    "dados_artigos[\"CTR\"]"
   ]
  },
  {
   "cell_type": "code",
   "execution_count": 94,
   "metadata": {},
   "outputs": [
    {
     "data": {
      "text/plain": [
       "0.5182811829962766"
      ]
     },
     "execution_count": 94,
     "metadata": {},
     "output_type": "execute_result"
    }
   ],
   "source": [
    "# Total - CTR Click Through Rate = Total de Clique / Total de Visualizações\n",
    "(dados_artigos[\"TotalCliques\"].sum() / dados_artigos[\"Visualizações\"].sum())"
   ]
  },
  {
   "cell_type": "code",
   "execution_count": 95,
   "metadata": {},
   "outputs": [
    {
     "data": {
      "text/plain": [
       "0        8.999767\n",
       "1        8.999343\n",
       "2        8.999339\n",
       "3        8.999173\n",
       "4        8.999803\n",
       "           ...   \n",
       "14099         NaN\n",
       "14100         NaN\n",
       "14101         NaN\n",
       "14102         NaN\n",
       "14103         NaN\n",
       "Name: PercentualVezPesquisado, Length: 14104, dtype: float64"
      ]
     },
     "execution_count": 95,
     "metadata": {},
     "output_type": "execute_result"
    }
   ],
   "source": [
    "# Percentual de vezes pesquisados\n",
    "dados_artigos[\"PercentualVezPesquisado\"] = (dados_artigos[\"Vezes pesquisados\"] / dados_artigos[\"Visualizações\"]) * 100\n",
    "dados_artigos[\"PercentualVezPesquisado\"]"
   ]
  },
  {
   "cell_type": "code",
   "execution_count": 96,
   "metadata": {},
   "outputs": [
    {
     "data": {
      "text/plain": [
       "8.832463944099485"
      ]
     },
     "execution_count": 96,
     "metadata": {},
     "output_type": "execute_result"
    }
   ],
   "source": [
    "# Total - # Percentual de vezes pesquisados\n",
    "(dados_artigos[\"Vezes pesquisados\"].sum() / dados_artigos[\"Visualizações\"].sum()) * 100"
   ]
  },
  {
   "cell_type": "code",
   "execution_count": 97,
   "metadata": {},
   "outputs": [
    {
     "data": {
      "text/plain": [
       "0        0.0\n",
       "1        0.0\n",
       "2        0.0\n",
       "3        0.0\n",
       "4        0.0\n",
       "        ... \n",
       "14099    NaN\n",
       "14100    NaN\n",
       "14101    NaN\n",
       "14102    NaN\n",
       "14103    NaN\n",
       "Name: PercentualCliquesPagos, Length: 14104, dtype: float64"
      ]
     },
     "execution_count": 97,
     "metadata": {},
     "output_type": "execute_result"
    }
   ],
   "source": [
    "# Percentual de cliques pagos\n",
    "dados_artigos[\"PercentualCliquesPagos\"] = (dados_artigos[\"Clicks pagos\"] / dados_artigos[\"Visualizações\"]) * 100\n",
    "dados_artigos[\"PercentualCliquesPagos\"]"
   ]
  },
  {
   "cell_type": "code",
   "execution_count": 98,
   "metadata": {},
   "outputs": [
    {
     "data": {
      "text/plain": [
       "0        19.999509\n",
       "1        19.998605\n",
       "2        19.998476\n",
       "3        19.998138\n",
       "4        19.999621\n",
       "           ...    \n",
       "14099          NaN\n",
       "14100          NaN\n",
       "14101          NaN\n",
       "14102          NaN\n",
       "14103          NaN\n",
       "Name: PercentualVisitasDiritas, Length: 14104, dtype: float64"
      ]
     },
     "execution_count": 98,
     "metadata": {},
     "output_type": "execute_result"
    }
   ],
   "source": [
    "# percentual de visitas diretas\n",
    "dados_artigos[\"PercentualVisitasDiritas\"] = (dados_artigos[\"Visitas Diretas\"] / dados_artigos[\"Visualizações\"]) * 100\n",
    "dados_artigos[\"PercentualVisitasDiritas\"]"
   ]
  },
  {
   "cell_type": "code",
   "execution_count": 99,
   "metadata": {},
   "outputs": [
    {
     "data": {
      "text/plain": [
       "226352.80357142858"
      ]
     },
     "execution_count": 99,
     "metadata": {},
     "output_type": "execute_result"
    }
   ],
   "source": [
    "#Buscar a média de visualização dos artigos.\n",
    "media_visualizacoes = dados_artigos[\"Visualizações\"].sum() / quant_artigos\n",
    "media_visualizacoes"
   ]
  },
  {
   "cell_type": "code",
   "execution_count": 100,
   "metadata": {},
   "outputs": [],
   "source": [
    "# Gerar limites visualizações\n",
    "valor = dados_artigos[\"Visualizações\"]\n",
    "Q1 = valor.quantile(.25)\n",
    "Q3 = valor.quantile(.75)\n",
    "IIQ = Q3 - Q1\n",
    "limite_inferior = Q1 - 1.5 * IIQ\n",
    "limite_superior = Q3 + 1.5 * IIQ"
   ]
  },
  {
   "cell_type": "code",
   "execution_count": 101,
   "metadata": {},
   "outputs": [],
   "source": [
    "# Agrupando Artigos únicos e somando quantidade de visualizações\n",
    "dadosArtigosVisualizacoes = dados_artigos.groupby(\"Nome do artigo\")[\"Visualizações\"].sum()\n",
    "dadosArtigosVisualizacoes = pd.DataFrame(dadosArtigosVisualizacoes)"
   ]
  },
  {
   "cell_type": "code",
   "execution_count": 102,
   "metadata": {},
   "outputs": [
    {
     "data": {
      "text/html": [
       "<div>\n",
       "<style scoped>\n",
       "    .dataframe tbody tr th:only-of-type {\n",
       "        vertical-align: middle;\n",
       "    }\n",
       "\n",
       "    .dataframe tbody tr th {\n",
       "        vertical-align: top;\n",
       "    }\n",
       "\n",
       "    .dataframe thead th {\n",
       "        text-align: right;\n",
       "    }\n",
       "</style>\n",
       "<table border=\"1\" class=\"dataframe\">\n",
       "  <thead>\n",
       "    <tr style=\"text-align: right;\">\n",
       "      <th></th>\n",
       "      <th>Visualizações</th>\n",
       "    </tr>\n",
       "    <tr>\n",
       "      <th>Nome do artigo</th>\n",
       "      <th></th>\n",
       "    </tr>\n",
       "  </thead>\n",
       "  <tbody>\n",
       "    <tr>\n",
       "      <th>Escuta ativa e como isso mudará sua abordagem</th>\n",
       "      <td>2695889</td>\n",
       "    </tr>\n",
       "    <tr>\n",
       "      <th>Conteúdo e marketing além do consumo em massa</th>\n",
       "      <td>1899028</td>\n",
       "    </tr>\n",
       "    <tr>\n",
       "      <th>Melhores práticas para gerenciamento de projetos</th>\n",
       "      <td>1804652</td>\n",
       "    </tr>\n",
       "    <tr>\n",
       "      <th>Conselho Executivo Parte 2: CFO</th>\n",
       "      <td>1760966</td>\n",
       "    </tr>\n",
       "    <tr>\n",
       "      <th>Observabilidade da ciência de dados para executivos</th>\n",
       "      <td>1450890</td>\n",
       "    </tr>\n",
       "    <tr>\n",
       "      <th>Como ler seu trabalho em voz alta melhora sua escrita</th>\n",
       "      <td>1241974</td>\n",
       "    </tr>\n",
       "    <tr>\n",
       "      <th>Aprenda quando ir com o fluxo</th>\n",
       "      <td>1204761</td>\n",
       "    </tr>\n",
       "    <tr>\n",
       "      <th>Desbloqueando o acesso aos seus dados</th>\n",
       "      <td>1161179</td>\n",
       "    </tr>\n",
       "    <tr>\n",
       "      <th>Principais dicas para consolidar sua pilha de tecnologia</th>\n",
       "      <td>1157479</td>\n",
       "    </tr>\n",
       "    <tr>\n",
       "      <th>Melhores práticas para gerenciamento de dados</th>\n",
       "      <td>857296</td>\n",
       "    </tr>\n",
       "    <tr>\n",
       "      <th>Por que estou voltando para uma carreira em tecnologia</th>\n",
       "      <td>812841</td>\n",
       "    </tr>\n",
       "    <tr>\n",
       "      <th>Blockchain: um catalisador para a lucratividade na indústria da cadeia de suprimentos</th>\n",
       "      <td>803747</td>\n",
       "    </tr>\n",
       "    <tr>\n",
       "      <th>Principais tendências de análise em hospitalidade</th>\n",
       "      <td>780685</td>\n",
       "    </tr>\n",
       "    <tr>\n",
       "      <th>Recomendações de experiência do usuário</th>\n",
       "      <td>676860</td>\n",
       "    </tr>\n",
       "    <tr>\n",
       "      <th>Saldo de conteúdo: grátis vs. pago</th>\n",
       "      <td>602427</td>\n",
       "    </tr>\n",
       "    <tr>\n",
       "      <th>Conte histórias para cativar seu público</th>\n",
       "      <td>565681</td>\n",
       "    </tr>\n",
       "    <tr>\n",
       "      <th>Reinventando a personalização para a experiência do cliente</th>\n",
       "      <td>559940</td>\n",
       "    </tr>\n",
       "    <tr>\n",
       "      <th>Visualização Dive Deep Dive: Parte-Towhole</th>\n",
       "      <td>498794</td>\n",
       "    </tr>\n",
       "    <tr>\n",
       "      <th>Estratégias de treinamento eficientes</th>\n",
       "      <td>475117</td>\n",
       "    </tr>\n",
       "    <tr>\n",
       "      <th>O futuro dos chatbots</th>\n",
       "      <td>438636</td>\n",
       "    </tr>\n",
       "    <tr>\n",
       "      <th>Visualização Dive Deep Dive: Mudança ao longo do tempo</th>\n",
       "      <td>422696</td>\n",
       "    </tr>\n",
       "    <tr>\n",
       "      <th>Treinando efetivamente suas novas contratações</th>\n",
       "      <td>392874</td>\n",
       "    </tr>\n",
       "    <tr>\n",
       "      <th>Conectando -se a uma força de trabalho remota</th>\n",
       "      <td>370600</td>\n",
       "    </tr>\n",
       "    <tr>\n",
       "      <th>Ciência e Inovação de Dados</th>\n",
       "      <td>348361</td>\n",
       "    </tr>\n",
       "    <tr>\n",
       "      <th>Como lançar suas idéias para as partes interessadas</th>\n",
       "      <td>339218</td>\n",
       "    </tr>\n",
       "    <tr>\n",
       "      <th>Aprendizagem não supervisionada: modelagem de dados</th>\n",
       "      <td>337758</td>\n",
       "    </tr>\n",
       "    <tr>\n",
       "      <th>Planejando uma solução em nuvem</th>\n",
       "      <td>325054</td>\n",
       "    </tr>\n",
       "    <tr>\n",
       "      <th>4 razões pelas quais os investidores devem seguir as tendências tecnológicas</th>\n",
       "      <td>322850</td>\n",
       "    </tr>\n",
       "    <tr>\n",
       "      <th>Aprendendo mais com seus funcionários</th>\n",
       "      <td>309541</td>\n",
       "    </tr>\n",
       "    <tr>\n",
       "      <th>De acordo com nossos especialistas: Administração</th>\n",
       "      <td>309180</td>\n",
       "    </tr>\n",
       "    <tr>\n",
       "      <th>Ciência de dados e redes sociais</th>\n",
       "      <td>295514</td>\n",
       "    </tr>\n",
       "    <tr>\n",
       "      <th>Principais tendências de análise em finanças</th>\n",
       "      <td>290656</td>\n",
       "    </tr>\n",
       "    <tr>\n",
       "      <th>Melhores maneiras de aprender o básico da codificação</th>\n",
       "      <td>262295</td>\n",
       "    </tr>\n",
       "    <tr>\n",
       "      <th>Conselho executivo Parte 1: CTO</th>\n",
       "      <td>261574</td>\n",
       "    </tr>\n",
       "    <tr>\n",
       "      <th>Dicas e truques de modelagem de dados</th>\n",
       "      <td>260984</td>\n",
       "    </tr>\n",
       "    <tr>\n",
       "      <th>Sempre faça seu dever de casa UX</th>\n",
       "      <td>259069</td>\n",
       "    </tr>\n",
       "    <tr>\n",
       "      <th>Estabelecendo sua equipe para o sucesso</th>\n",
       "      <td>253268</td>\n",
       "    </tr>\n",
       "    <tr>\n",
       "      <th>Estabelecendo a confiança de dados</th>\n",
       "      <td>246536</td>\n",
       "    </tr>\n",
       "    <tr>\n",
       "      <th>Como nossa plataforma elevará sua organização</th>\n",
       "      <td>240075</td>\n",
       "    </tr>\n",
       "    <tr>\n",
       "      <th>Perspectivas de análise de big data em marketing</th>\n",
       "      <td>234988</td>\n",
       "    </tr>\n",
       "    <tr>\n",
       "      <th>As perguntas certas para fazer seus funcionários</th>\n",
       "      <td>227271</td>\n",
       "    </tr>\n",
       "  </tbody>\n",
       "</table>\n",
       "</div>"
      ],
      "text/plain": [
       "                                                    Visualizações\n",
       "Nome do artigo                                                   \n",
       "Escuta ativa e como isso mudará sua abordagem             2695889\n",
       "Conteúdo e marketing além do consumo em massa             1899028\n",
       "Melhores práticas para gerenciamento de projetos          1804652\n",
       "Conselho Executivo Parte 2: CFO                           1760966\n",
       "Observabilidade da ciência de dados para execut...        1450890\n",
       "Como ler seu trabalho em voz alta melhora sua e...        1241974\n",
       "Aprenda quando ir com o fluxo                             1204761\n",
       "Desbloqueando o acesso aos seus dados                     1161179\n",
       "Principais dicas para consolidar sua pilha de t...        1157479\n",
       "Melhores práticas para gerenciamento de dados              857296\n",
       "Por que estou voltando para uma carreira em tec...         812841\n",
       "Blockchain: um catalisador para a lucratividade...         803747\n",
       "Principais tendências de análise em hospitalidade          780685\n",
       "Recomendações de experiência do usuário                    676860\n",
       "Saldo de conteúdo: grátis vs. pago                         602427\n",
       "Conte histórias para cativar seu público                   565681\n",
       "Reinventando a personalização para a experiênci...         559940\n",
       "Visualização Dive Deep Dive: Parte-Towhole                 498794\n",
       "Estratégias de treinamento eficientes                      475117\n",
       "O futuro dos chatbots                                      438636\n",
       "Visualização Dive Deep Dive: Mudança ao longo d...         422696\n",
       "Treinando efetivamente suas novas contratações             392874\n",
       "Conectando -se a uma força de trabalho remota              370600\n",
       "Ciência e Inovação de Dados                                348361\n",
       "Como lançar suas idéias para as partes interess...         339218\n",
       "Aprendizagem não supervisionada: modelagem de d...         337758\n",
       "Planejando uma solução em nuvem                            325054\n",
       "4 razões pelas quais os investidores devem segu...         322850\n",
       "Aprendendo mais com seus funcionários                      309541\n",
       "De acordo com nossos especialistas: Administração          309180\n",
       "Ciência de dados e redes sociais                           295514\n",
       "Principais tendências de análise em finanças               290656\n",
       "Melhores maneiras de aprender o básico da codif...         262295\n",
       "Conselho executivo Parte 1: CTO                            261574\n",
       "Dicas e truques de modelagem de dados                      260984\n",
       "Sempre faça seu dever de casa UX                           259069\n",
       "Estabelecendo sua equipe para o sucesso                    253268\n",
       "Estabelecendo a confiança de dados                         246536\n",
       "Como nossa plataforma elevará sua organização              240075\n",
       "Perspectivas de análise de big data em marketing           234988\n",
       "As perguntas certas para fazer seus funcionários           227271"
      ]
     },
     "execution_count": 102,
     "metadata": {},
     "output_type": "execute_result"
    }
   ],
   "source": [
    "# Artigos acima da média de visualizações\n",
    "dadosArtigosVisualizacoes.query(\"Visualizações >= @media_visualizacoes\").sort_values(by=\"Visualizações\", ascending=False)"
   ]
  },
  {
   "cell_type": "code",
   "execution_count": 103,
   "metadata": {},
   "outputs": [
    {
     "data": {
      "text/html": [
       "<div>\n",
       "<style scoped>\n",
       "    .dataframe tbody tr th:only-of-type {\n",
       "        vertical-align: middle;\n",
       "    }\n",
       "\n",
       "    .dataframe tbody tr th {\n",
       "        vertical-align: top;\n",
       "    }\n",
       "\n",
       "    .dataframe thead th {\n",
       "        text-align: right;\n",
       "    }\n",
       "</style>\n",
       "<table border=\"1\" class=\"dataframe\">\n",
       "  <thead>\n",
       "    <tr style=\"text-align: right;\">\n",
       "      <th></th>\n",
       "      <th>Visualizações</th>\n",
       "    </tr>\n",
       "    <tr>\n",
       "      <th>Nome do artigo</th>\n",
       "      <th></th>\n",
       "    </tr>\n",
       "  </thead>\n",
       "  <tbody>\n",
       "    <tr>\n",
       "      <th>Como usar o feedback para acelerar o crescimento da carreira</th>\n",
       "      <td>26</td>\n",
       "    </tr>\n",
       "    <tr>\n",
       "      <th>Principais habilidades da força de trabalho</th>\n",
       "      <td>55</td>\n",
       "    </tr>\n",
       "    <tr>\n",
       "      <th>Escolhendo os parceiros de tecnologia certos</th>\n",
       "      <td>63</td>\n",
       "    </tr>\n",
       "    <tr>\n",
       "      <th>Repensando e prevendo o futuro da publicidade por e -mail</th>\n",
       "      <td>69</td>\n",
       "    </tr>\n",
       "    <tr>\n",
       "      <th>Onde, quando e como enviar sua escrita</th>\n",
       "      <td>75</td>\n",
       "    </tr>\n",
       "    <tr>\n",
       "      <th>...</th>\n",
       "      <td>...</td>\n",
       "    </tr>\n",
       "    <tr>\n",
       "      <th>Como facilitar on -line eficazes</th>\n",
       "      <td>206960</td>\n",
       "    </tr>\n",
       "    <tr>\n",
       "      <th>Modernizando seus aplicativos</th>\n",
       "      <td>211739</td>\n",
       "    </tr>\n",
       "    <tr>\n",
       "      <th>O que vem a seguir: criptomoeda</th>\n",
       "      <td>212731</td>\n",
       "    </tr>\n",
       "    <tr>\n",
       "      <th>Você precisa de experiência em funcionários digitais para ser um bom líder?</th>\n",
       "      <td>216238</td>\n",
       "    </tr>\n",
       "    <tr>\n",
       "      <th>Como ter sucesso em sua carreira, apoiado por pesquisa</th>\n",
       "      <td>224855</td>\n",
       "    </tr>\n",
       "  </tbody>\n",
       "</table>\n",
       "<p>127 rows × 1 columns</p>\n",
       "</div>"
      ],
      "text/plain": [
       "                                                    Visualizações\n",
       "Nome do artigo                                                   \n",
       "Como usar o feedback para acelerar o cresciment...             26\n",
       "Principais habilidades da força de trabalho                    55\n",
       "Escolhendo os parceiros de tecnologia certos                   63\n",
       "Repensando e prevendo o futuro da publicidade p...             69\n",
       "Onde, quando e como enviar sua escrita                         75\n",
       "...                                                           ...\n",
       "Como facilitar on -line eficazes                           206960\n",
       "Modernizando seus aplicativos                              211739\n",
       "O que vem a seguir: criptomoeda                            212731\n",
       "Você precisa de experiência em funcionários dig...         216238\n",
       "Como ter sucesso em sua carreira, apoiado por p...         224855\n",
       "\n",
       "[127 rows x 1 columns]"
      ]
     },
     "execution_count": 103,
     "metadata": {},
     "output_type": "execute_result"
    }
   ],
   "source": [
    "# Artigos abaixo da média de visualizações\n",
    "dadosArtigosVisualizacoes.query(\"Visualizações < @media_visualizacoes\").sort_values(by=\"Visualizações\", ascending=True)"
   ]
  },
  {
   "cell_type": "code",
   "execution_count": 104,
   "metadata": {},
   "outputs": [],
   "source": [
    "# Agrupando categorias únicas e somando quantidade de visualizações\n",
    "dadosCategoriasVisualizacoes = dados_artigos.groupby(\"Categoria\")[\"Visualizações\"].sum()\n",
    "dadosCategoriasVisualizacoes = pd.DataFrame(dadosCategoriasVisualizacoes).reset_index()"
   ]
  },
  {
   "cell_type": "code",
   "execution_count": 105,
   "metadata": {},
   "outputs": [
    {
     "data": {
      "text/html": [
       "<div>\n",
       "<style scoped>\n",
       "    .dataframe tbody tr th:only-of-type {\n",
       "        vertical-align: middle;\n",
       "    }\n",
       "\n",
       "    .dataframe tbody tr th {\n",
       "        vertical-align: top;\n",
       "    }\n",
       "\n",
       "    .dataframe thead th {\n",
       "        text-align: right;\n",
       "    }\n",
       "</style>\n",
       "<table border=\"1\" class=\"dataframe\">\n",
       "  <thead>\n",
       "    <tr style=\"text-align: right;\">\n",
       "      <th></th>\n",
       "      <th>Categoria</th>\n",
       "      <th>Visualizações</th>\n",
       "    </tr>\n",
       "  </thead>\n",
       "  <tbody>\n",
       "    <tr>\n",
       "      <th>2</th>\n",
       "      <td>Gestão</td>\n",
       "      <td>16287302</td>\n",
       "    </tr>\n",
       "    <tr>\n",
       "      <th>0</th>\n",
       "      <td>Data Science</td>\n",
       "      <td>9155203</td>\n",
       "    </tr>\n",
       "    <tr>\n",
       "      <th>6</th>\n",
       "      <td>Tecnologia</td>\n",
       "      <td>7370702</td>\n",
       "    </tr>\n",
       "    <tr>\n",
       "      <th>4</th>\n",
       "      <td>Negócios</td>\n",
       "      <td>2135005</td>\n",
       "    </tr>\n",
       "    <tr>\n",
       "      <th>7</th>\n",
       "      <td>UX</td>\n",
       "      <td>1491626</td>\n",
       "    </tr>\n",
       "    <tr>\n",
       "      <th>1</th>\n",
       "      <td>DevOps</td>\n",
       "      <td>965373</td>\n",
       "    </tr>\n",
       "    <tr>\n",
       "      <th>5</th>\n",
       "      <td>Programação</td>\n",
       "      <td>494231</td>\n",
       "    </tr>\n",
       "    <tr>\n",
       "      <th>3</th>\n",
       "      <td>Marketing</td>\n",
       "      <td>127829</td>\n",
       "    </tr>\n",
       "  </tbody>\n",
       "</table>\n",
       "</div>"
      ],
      "text/plain": [
       "      Categoria  Visualizações\n",
       "2        Gestão       16287302\n",
       "0  Data Science        9155203\n",
       "6    Tecnologia        7370702\n",
       "4      Negócios        2135005\n",
       "7            UX        1491626\n",
       "1        DevOps         965373\n",
       "5   Programação         494231\n",
       "3     Marketing         127829"
      ]
     },
     "execution_count": 105,
     "metadata": {},
     "output_type": "execute_result"
    }
   ],
   "source": [
    "# Categorias por quantidade de visualizações\n",
    "dadosCategoriasVisualizacoes = dadosCategoriasVisualizacoes.sort_values(by=\"Visualizações\", ascending=False)\n",
    "dadosCategoriasVisualizacoes"
   ]
  },
  {
   "cell_type": "code",
   "execution_count": 106,
   "metadata": {},
   "outputs": [
    {
     "data": {
      "text/plain": [
       "<Axes: title={'center': 'Quantidade Visualizações por Catergoria'}, xlabel='Categoria'>"
      ]
     },
     "execution_count": 106,
     "metadata": {},
     "output_type": "execute_result"
    },
    {
     "data": {
      "image/png": "[encoded data removed]",
      "text/plain": [
       "<Figure size 640x480 with 1 Axes>"
      ]
     },
     "metadata": {},
     "output_type": "display_data"
    }
   ],
   "source": [
    "# Categorias por quantidade de visualizações - Gráfico\n",
    "dadosCategoriasVisualizacoes.plot.bar(title=\"Quantidade Visualizações por Catergoria\", x=\"Categoria\")"
   ]
  },
  {
   "cell_type": "code",
   "execution_count": 107,
   "metadata": {},
   "outputs": [
    {
     "data": {
      "image/png": "[encoded data removed]",
      "text/plain": [
       "<Figure size 1300x600 with 1 Axes>"
      ]
     },
     "metadata": {},
     "output_type": "display_data"
    }
   ],
   "source": [
    "# Categorias por quantidade de visualizações - Gráfico Seaborn\n",
    "plt.figure(figsize=(13,6))\n",
    "custom_params = {\"axes.spines.right\": False, \"axes.spines.top\": False, \"axes.spines.bottom\": False}\n",
    "sns.set_theme(style=\"white\" ,rc=custom_params)\n",
    "ax = sns.barplot(y=\"Categoria\", x=\"Visualizações\", data=dadosCategoriasVisualizacoes, orient=\"h\")\n",
    "ax.set_xticklabels([])\n",
    "plt.title(\"Visualização por Categoria\", weight=\"bold\")\n",
    "plt.ylabel(\"\")\n",
    "plt.xlabel(\"\")\n",
    "for index, barra in enumerate(ax.patches):\n",
    "  pos_x = barra.get_width()\n",
    "  pos_y = barra.get_y() + barra.get_height() / 2\n",
    "  offset = 2000\n",
    "  quantidade = f'{pos_x:,.0f}'.replace(',','.')\n",
    "  ax.text(x = pos_x + offset , y = pos_y, s = quantidade, va='center', fontsize=10)"
   ]
  },
  {
   "cell_type": "code",
   "execution_count": 108,
   "metadata": {},
   "outputs": [
    {
     "data": {
      "text/html": [
       "<div>\n",
       "<style scoped>\n",
       "    .dataframe tbody tr th:only-of-type {\n",
       "        vertical-align: middle;\n",
       "    }\n",
       "\n",
       "    .dataframe tbody tr th {\n",
       "        vertical-align: top;\n",
       "    }\n",
       "\n",
       "    .dataframe thead th {\n",
       "        text-align: right;\n",
       "    }\n",
       "</style>\n",
       "<table border=\"1\" class=\"dataframe\">\n",
       "  <thead>\n",
       "    <tr style=\"text-align: right;\">\n",
       "      <th></th>\n",
       "      <th>Categoria</th>\n",
       "      <th>Tempo de leitura (minutos)</th>\n",
       "    </tr>\n",
       "  </thead>\n",
       "  <tbody>\n",
       "    <tr>\n",
       "      <th>2</th>\n",
       "      <td>Gestão</td>\n",
       "      <td>41993610</td>\n",
       "    </tr>\n",
       "    <tr>\n",
       "      <th>0</th>\n",
       "      <td>Data Science</td>\n",
       "      <td>22093495</td>\n",
       "    </tr>\n",
       "    <tr>\n",
       "      <th>6</th>\n",
       "      <td>Tecnologia</td>\n",
       "      <td>20084998</td>\n",
       "    </tr>\n",
       "    <tr>\n",
       "      <th>4</th>\n",
       "      <td>Negócios</td>\n",
       "      <td>5582875</td>\n",
       "    </tr>\n",
       "    <tr>\n",
       "      <th>7</th>\n",
       "      <td>UX</td>\n",
       "      <td>3716613</td>\n",
       "    </tr>\n",
       "    <tr>\n",
       "      <th>1</th>\n",
       "      <td>DevOps</td>\n",
       "      <td>2721188</td>\n",
       "    </tr>\n",
       "    <tr>\n",
       "      <th>5</th>\n",
       "      <td>Programação</td>\n",
       "      <td>1122330</td>\n",
       "    </tr>\n",
       "    <tr>\n",
       "      <th>3</th>\n",
       "      <td>Marketing</td>\n",
       "      <td>300412</td>\n",
       "    </tr>\n",
       "  </tbody>\n",
       "</table>\n",
       "</div>"
      ],
      "text/plain": [
       "      Categoria  Tempo de leitura (minutos)\n",
       "2        Gestão                    41993610\n",
       "0  Data Science                    22093495\n",
       "6    Tecnologia                    20084998\n",
       "4      Negócios                     5582875\n",
       "7            UX                     3716613\n",
       "1        DevOps                     2721188\n",
       "5   Programação                     1122330\n",
       "3     Marketing                      300412"
      ]
     },
     "execution_count": 108,
     "metadata": {},
     "output_type": "execute_result"
    }
   ],
   "source": [
    "# Agrupando categorias únicas e somando quantidade de tempo de leitura\n",
    "dadosCategoriasTempo = dados_artigos.groupby(\"Categoria\")[\"Tempo de leitura (minutos)\"].sum().reset_index()\n",
    "dadosCategoriasTempo = pd.DataFrame(dadosCategoriasTempo)\n",
    "dadosCategoriasTempo = dadosCategoriasTempo.sort_values(by=\"Tempo de leitura (minutos)\", ascending=False)\n",
    "dadosCategoriasTempo"
   ]
  },
  {
   "cell_type": "code",
   "execution_count": 109,
   "metadata": {},
   "outputs": [
    {
     "data": {
      "text/plain": [
       "Text(0.5, 1.0, 'Dispersão por Categoria (Tempo de Leitura)')"
      ]
     },
     "execution_count": 109,
     "metadata": {},
     "output_type": "execute_result"
    },
    {
     "data": {
      "image/png": "[encoded data removed]",
      "text/plain": [
       "<Figure size 700x700 with 1 Axes>"
      ]
     },
     "metadata": {},
     "output_type": "display_data"
    }
   ],
   "source": [
    "# Categorias por tempo de leitura- Gráfico\n",
    "graficoTempoCategoria = dadosCategoriasTempo.plot.pie(y=\"Tempo de leitura (minutos)\", labels=lista_categorias, autopct='%1.1f%%', figsize=(7,7))\n",
    "graficoTempoCategoria.set_title(\"Dispersão por Categoria (Tempo de Leitura)\")"
   ]
  },
  {
   "cell_type": "code",
   "execution_count": 110,
   "metadata": {},
   "outputs": [
    {
     "data": {
      "text/html": [
       "<div>\n",
       "<style scoped>\n",
       "    .dataframe tbody tr th:only-of-type {\n",
       "        vertical-align: middle;\n",
       "    }\n",
       "\n",
       "    .dataframe tbody tr th {\n",
       "        vertical-align: top;\n",
       "    }\n",
       "\n",
       "    .dataframe thead th {\n",
       "        text-align: right;\n",
       "    }\n",
       "</style>\n",
       "<table border=\"1\" class=\"dataframe\">\n",
       "  <thead>\n",
       "    <tr style=\"text-align: right;\">\n",
       "      <th></th>\n",
       "      <th>Data</th>\n",
       "      <th>Novos usuários únicos</th>\n",
       "    </tr>\n",
       "  </thead>\n",
       "  <tbody>\n",
       "    <tr>\n",
       "      <th>182</th>\n",
       "      <td>2021-11-30</td>\n",
       "      <td>13220</td>\n",
       "    </tr>\n",
       "    <tr>\n",
       "      <th>181</th>\n",
       "      <td>2021-11-29</td>\n",
       "      <td>13878</td>\n",
       "    </tr>\n",
       "    <tr>\n",
       "      <th>180</th>\n",
       "      <td>2021-11-28</td>\n",
       "      <td>31264</td>\n",
       "    </tr>\n",
       "    <tr>\n",
       "      <th>179</th>\n",
       "      <td>2021-11-27</td>\n",
       "      <td>26360</td>\n",
       "    </tr>\n",
       "    <tr>\n",
       "      <th>178</th>\n",
       "      <td>2021-11-26</td>\n",
       "      <td>15028</td>\n",
       "    </tr>\n",
       "    <tr>\n",
       "      <th>...</th>\n",
       "      <td>...</td>\n",
       "      <td>...</td>\n",
       "    </tr>\n",
       "    <tr>\n",
       "      <th>4</th>\n",
       "      <td>2021-06-05</td>\n",
       "      <td>35523</td>\n",
       "    </tr>\n",
       "    <tr>\n",
       "      <th>3</th>\n",
       "      <td>2021-06-04</td>\n",
       "      <td>42172</td>\n",
       "    </tr>\n",
       "    <tr>\n",
       "      <th>2</th>\n",
       "      <td>2021-06-03</td>\n",
       "      <td>60367</td>\n",
       "    </tr>\n",
       "    <tr>\n",
       "      <th>1</th>\n",
       "      <td>2021-06-02</td>\n",
       "      <td>106821</td>\n",
       "    </tr>\n",
       "    <tr>\n",
       "      <th>0</th>\n",
       "      <td>2021-06-01</td>\n",
       "      <td>10034</td>\n",
       "    </tr>\n",
       "  </tbody>\n",
       "</table>\n",
       "<p>183 rows × 2 columns</p>\n",
       "</div>"
      ],
      "text/plain": [
       "          Data  Novos usuários únicos\n",
       "182 2021-11-30                  13220\n",
       "181 2021-11-29                  13878\n",
       "180 2021-11-28                  31264\n",
       "179 2021-11-27                  26360\n",
       "178 2021-11-26                  15028\n",
       "..         ...                    ...\n",
       "4   2021-06-05                  35523\n",
       "3   2021-06-04                  42172\n",
       "2   2021-06-03                  60367\n",
       "1   2021-06-02                 106821\n",
       "0   2021-06-01                  10034\n",
       "\n",
       "[183 rows x 2 columns]"
      ]
     },
     "execution_count": 110,
     "metadata": {},
     "output_type": "execute_result"
    }
   ],
   "source": [
    "# Agrupando novos usuários únicos por dia\n",
    "NovosUsuariosPorData = dados_artigos.groupby(\"Data\")[\"Novos usuários únicos\"].sum().reset_index()\n",
    "NovosUsuariosPorData = pd.DataFrame(NovosUsuariosPorData)\n",
    "NovosUsuariosPorData = NovosUsuariosPorData.sort_values(by=\"Data\", ascending=False)\n",
    "NovosUsuariosPorData"
   ]
  },
  {
   "cell_type": "code",
   "execution_count": 111,
   "metadata": {},
   "outputs": [
    {
     "data": {
      "text/plain": [
       "array([2021], dtype=int32)"
      ]
     },
     "execution_count": 111,
     "metadata": {},
     "output_type": "execute_result"
    }
   ],
   "source": [
    "# Verificado que há apenas dados de 2021 \n",
    "NovosUsuariosPorData[\"Data\"].dt.year.unique()"
   ]
  },
  {
   "cell_type": "code",
   "execution_count": 112,
   "metadata": {},
   "outputs": [
    {
     "data": {
      "text/html": [
       "<div>\n",
       "<style scoped>\n",
       "    .dataframe tbody tr th:only-of-type {\n",
       "        vertical-align: middle;\n",
       "    }\n",
       "\n",
       "    .dataframe tbody tr th {\n",
       "        vertical-align: top;\n",
       "    }\n",
       "\n",
       "    .dataframe thead th {\n",
       "        text-align: right;\n",
       "    }\n",
       "</style>\n",
       "<table border=\"1\" class=\"dataframe\">\n",
       "  <thead>\n",
       "    <tr style=\"text-align: right;\">\n",
       "      <th></th>\n",
       "      <th>Data</th>\n",
       "      <th>Novos usuários únicos</th>\n",
       "      <th>Semana</th>\n",
       "    </tr>\n",
       "  </thead>\n",
       "  <tbody>\n",
       "    <tr>\n",
       "      <th>182</th>\n",
       "      <td>2021-11-30</td>\n",
       "      <td>13220</td>\n",
       "      <td>2021-11-25</td>\n",
       "    </tr>\n",
       "    <tr>\n",
       "      <th>181</th>\n",
       "      <td>2021-11-29</td>\n",
       "      <td>13878</td>\n",
       "      <td>2021-11-25</td>\n",
       "    </tr>\n",
       "    <tr>\n",
       "      <th>180</th>\n",
       "      <td>2021-11-28</td>\n",
       "      <td>31264</td>\n",
       "      <td>2021-11-25</td>\n",
       "    </tr>\n",
       "    <tr>\n",
       "      <th>179</th>\n",
       "      <td>2021-11-27</td>\n",
       "      <td>26360</td>\n",
       "      <td>2021-11-25</td>\n",
       "    </tr>\n",
       "    <tr>\n",
       "      <th>178</th>\n",
       "      <td>2021-11-26</td>\n",
       "      <td>15028</td>\n",
       "      <td>2021-11-25</td>\n",
       "    </tr>\n",
       "    <tr>\n",
       "      <th>...</th>\n",
       "      <td>...</td>\n",
       "      <td>...</td>\n",
       "      <td>...</td>\n",
       "    </tr>\n",
       "    <tr>\n",
       "      <th>4</th>\n",
       "      <td>2021-06-05</td>\n",
       "      <td>35523</td>\n",
       "      <td>2021-06-03</td>\n",
       "    </tr>\n",
       "    <tr>\n",
       "      <th>3</th>\n",
       "      <td>2021-06-04</td>\n",
       "      <td>42172</td>\n",
       "      <td>2021-06-03</td>\n",
       "    </tr>\n",
       "    <tr>\n",
       "      <th>2</th>\n",
       "      <td>2021-06-03</td>\n",
       "      <td>60367</td>\n",
       "      <td>2021-06-03</td>\n",
       "    </tr>\n",
       "    <tr>\n",
       "      <th>1</th>\n",
       "      <td>2021-06-02</td>\n",
       "      <td>106821</td>\n",
       "      <td>2021-05-27</td>\n",
       "    </tr>\n",
       "    <tr>\n",
       "      <th>0</th>\n",
       "      <td>2021-06-01</td>\n",
       "      <td>10034</td>\n",
       "      <td>2021-05-27</td>\n",
       "    </tr>\n",
       "  </tbody>\n",
       "</table>\n",
       "<p>183 rows × 3 columns</p>\n",
       "</div>"
      ],
      "text/plain": [
       "          Data  Novos usuários únicos     Semana\n",
       "182 2021-11-30                  13220 2021-11-25\n",
       "181 2021-11-29                  13878 2021-11-25\n",
       "180 2021-11-28                  31264 2021-11-25\n",
       "179 2021-11-27                  26360 2021-11-25\n",
       "178 2021-11-26                  15028 2021-11-25\n",
       "..         ...                    ...        ...\n",
       "4   2021-06-05                  35523 2021-06-03\n",
       "3   2021-06-04                  42172 2021-06-03\n",
       "2   2021-06-03                  60367 2021-06-03\n",
       "1   2021-06-02                 106821 2021-05-27\n",
       "0   2021-06-01                  10034 2021-05-27\n",
       "\n",
       "[183 rows x 3 columns]"
      ]
     },
     "execution_count": 112,
     "metadata": {},
     "output_type": "execute_result"
    }
   ],
   "source": [
    "# Modificando formato de DATA\n",
    "NovosUsuariosPorData[\"Semana\"] = NovosUsuariosPorData[\"Data\"].dt.floor(\"7D\")\n",
    "NovosUsuariosPorData"
   ]
  },
  {
   "cell_type": "code",
   "execution_count": 113,
   "metadata": {},
   "outputs": [
    {
     "data": {
      "text/html": [
       "<div>\n",
       "<style scoped>\n",
       "    .dataframe tbody tr th:only-of-type {\n",
       "        vertical-align: middle;\n",
       "    }\n",
       "\n",
       "    .dataframe tbody tr th {\n",
       "        vertical-align: top;\n",
       "    }\n",
       "\n",
       "    .dataframe thead th {\n",
       "        text-align: right;\n",
       "    }\n",
       "</style>\n",
       "<table border=\"1\" class=\"dataframe\">\n",
       "  <thead>\n",
       "    <tr style=\"text-align: right;\">\n",
       "      <th></th>\n",
       "      <th>Semana</th>\n",
       "      <th>SemanaFim</th>\n",
       "      <th>NumSemana</th>\n",
       "    </tr>\n",
       "  </thead>\n",
       "  <tbody>\n",
       "    <tr>\n",
       "      <th>0</th>\n",
       "      <td>2021-05-27</td>\n",
       "      <td>2021-06-02</td>\n",
       "      <td>1</td>\n",
       "    </tr>\n",
       "    <tr>\n",
       "      <th>1</th>\n",
       "      <td>2021-06-03</td>\n",
       "      <td>2021-06-09</td>\n",
       "      <td>2</td>\n",
       "    </tr>\n",
       "    <tr>\n",
       "      <th>2</th>\n",
       "      <td>2021-06-10</td>\n",
       "      <td>2021-06-16</td>\n",
       "      <td>3</td>\n",
       "    </tr>\n",
       "    <tr>\n",
       "      <th>3</th>\n",
       "      <td>2021-06-17</td>\n",
       "      <td>2021-06-23</td>\n",
       "      <td>4</td>\n",
       "    </tr>\n",
       "    <tr>\n",
       "      <th>4</th>\n",
       "      <td>2021-06-24</td>\n",
       "      <td>2021-06-30</td>\n",
       "      <td>5</td>\n",
       "    </tr>\n",
       "    <tr>\n",
       "      <th>5</th>\n",
       "      <td>2021-07-01</td>\n",
       "      <td>2021-07-07</td>\n",
       "      <td>6</td>\n",
       "    </tr>\n",
       "    <tr>\n",
       "      <th>6</th>\n",
       "      <td>2021-07-08</td>\n",
       "      <td>2021-07-14</td>\n",
       "      <td>7</td>\n",
       "    </tr>\n",
       "    <tr>\n",
       "      <th>7</th>\n",
       "      <td>2021-07-15</td>\n",
       "      <td>2021-07-21</td>\n",
       "      <td>8</td>\n",
       "    </tr>\n",
       "    <tr>\n",
       "      <th>8</th>\n",
       "      <td>2021-07-22</td>\n",
       "      <td>2021-07-28</td>\n",
       "      <td>9</td>\n",
       "    </tr>\n",
       "    <tr>\n",
       "      <th>9</th>\n",
       "      <td>2021-07-29</td>\n",
       "      <td>2021-08-04</td>\n",
       "      <td>10</td>\n",
       "    </tr>\n",
       "    <tr>\n",
       "      <th>10</th>\n",
       "      <td>2021-08-05</td>\n",
       "      <td>2021-08-11</td>\n",
       "      <td>11</td>\n",
       "    </tr>\n",
       "    <tr>\n",
       "      <th>11</th>\n",
       "      <td>2021-08-12</td>\n",
       "      <td>2021-08-18</td>\n",
       "      <td>12</td>\n",
       "    </tr>\n",
       "    <tr>\n",
       "      <th>12</th>\n",
       "      <td>2021-08-19</td>\n",
       "      <td>2021-08-25</td>\n",
       "      <td>13</td>\n",
       "    </tr>\n",
       "    <tr>\n",
       "      <th>13</th>\n",
       "      <td>2021-08-26</td>\n",
       "      <td>2021-09-01</td>\n",
       "      <td>14</td>\n",
       "    </tr>\n",
       "    <tr>\n",
       "      <th>14</th>\n",
       "      <td>2021-09-02</td>\n",
       "      <td>2021-09-08</td>\n",
       "      <td>15</td>\n",
       "    </tr>\n",
       "    <tr>\n",
       "      <th>15</th>\n",
       "      <td>2021-09-09</td>\n",
       "      <td>2021-09-15</td>\n",
       "      <td>16</td>\n",
       "    </tr>\n",
       "    <tr>\n",
       "      <th>16</th>\n",
       "      <td>2021-09-16</td>\n",
       "      <td>2021-09-22</td>\n",
       "      <td>17</td>\n",
       "    </tr>\n",
       "    <tr>\n",
       "      <th>17</th>\n",
       "      <td>2021-09-23</td>\n",
       "      <td>2021-09-29</td>\n",
       "      <td>18</td>\n",
       "    </tr>\n",
       "    <tr>\n",
       "      <th>18</th>\n",
       "      <td>2021-09-30</td>\n",
       "      <td>2021-10-06</td>\n",
       "      <td>19</td>\n",
       "    </tr>\n",
       "    <tr>\n",
       "      <th>19</th>\n",
       "      <td>2021-10-07</td>\n",
       "      <td>2021-10-13</td>\n",
       "      <td>20</td>\n",
       "    </tr>\n",
       "    <tr>\n",
       "      <th>20</th>\n",
       "      <td>2021-10-14</td>\n",
       "      <td>2021-10-20</td>\n",
       "      <td>21</td>\n",
       "    </tr>\n",
       "    <tr>\n",
       "      <th>21</th>\n",
       "      <td>2021-10-21</td>\n",
       "      <td>2021-10-27</td>\n",
       "      <td>22</td>\n",
       "    </tr>\n",
       "    <tr>\n",
       "      <th>22</th>\n",
       "      <td>2021-10-28</td>\n",
       "      <td>2021-11-03</td>\n",
       "      <td>23</td>\n",
       "    </tr>\n",
       "    <tr>\n",
       "      <th>23</th>\n",
       "      <td>2021-11-04</td>\n",
       "      <td>2021-11-10</td>\n",
       "      <td>24</td>\n",
       "    </tr>\n",
       "    <tr>\n",
       "      <th>24</th>\n",
       "      <td>2021-11-11</td>\n",
       "      <td>2021-11-17</td>\n",
       "      <td>25</td>\n",
       "    </tr>\n",
       "    <tr>\n",
       "      <th>25</th>\n",
       "      <td>2021-11-18</td>\n",
       "      <td>2021-11-24</td>\n",
       "      <td>26</td>\n",
       "    </tr>\n",
       "    <tr>\n",
       "      <th>26</th>\n",
       "      <td>2021-11-25</td>\n",
       "      <td>2021-12-01</td>\n",
       "      <td>27</td>\n",
       "    </tr>\n",
       "  </tbody>\n",
       "</table>\n",
       "</div>"
      ],
      "text/plain": [
       "       Semana  SemanaFim  NumSemana\n",
       "0  2021-05-27 2021-06-02          1\n",
       "1  2021-06-03 2021-06-09          2\n",
       "2  2021-06-10 2021-06-16          3\n",
       "3  2021-06-17 2021-06-23          4\n",
       "4  2021-06-24 2021-06-30          5\n",
       "5  2021-07-01 2021-07-07          6\n",
       "6  2021-07-08 2021-07-14          7\n",
       "7  2021-07-15 2021-07-21          8\n",
       "8  2021-07-22 2021-07-28          9\n",
       "9  2021-07-29 2021-08-04         10\n",
       "10 2021-08-05 2021-08-11         11\n",
       "11 2021-08-12 2021-08-18         12\n",
       "12 2021-08-19 2021-08-25         13\n",
       "13 2021-08-26 2021-09-01         14\n",
       "14 2021-09-02 2021-09-08         15\n",
       "15 2021-09-09 2021-09-15         16\n",
       "16 2021-09-16 2021-09-22         17\n",
       "17 2021-09-23 2021-09-29         18\n",
       "18 2021-09-30 2021-10-06         19\n",
       "19 2021-10-07 2021-10-13         20\n",
       "20 2021-10-14 2021-10-20         21\n",
       "21 2021-10-21 2021-10-27         22\n",
       "22 2021-10-28 2021-11-03         23\n",
       "23 2021-11-04 2021-11-10         24\n",
       "24 2021-11-11 2021-11-17         25\n",
       "25 2021-11-18 2021-11-24         26\n",
       "26 2021-11-25 2021-12-01         27"
      ]
     },
     "execution_count": 113,
     "metadata": {},
     "output_type": "execute_result"
    }
   ],
   "source": [
    "# Tabela com números de semana\n",
    "semanadoMes = NovosUsuariosPorData.groupby(\"Semana\").size().reset_index()\n",
    "dias = pd.DateOffset(days=6)\n",
    "semanadoMes[\"SemanaFim\"] = semanadoMes[\"Semana\"] + dias\n",
    "semanadoMes[\"NumSemana\"] = semanadoMes.index + 1\n",
    "del semanadoMes[0]\n",
    "semanadoMes"
   ]
  },
  {
   "cell_type": "code",
   "execution_count": 114,
   "metadata": {},
   "outputs": [],
   "source": [
    "# Inserindo números da semana\n",
    "NovosUsuariosPorData[\"NumSemana\"] = None\n",
    "for i, linhaTabela1 in NovosUsuariosPorData.iterrows():\n",
    "    valor = linhaTabela1[\"Data\"]\n",
    "    for _, linhaTabela2 in semanadoMes.iterrows():\n",
    "        limite_inferior = linhaTabela2[\"Semana\"]\n",
    "        limite_superior = linhaTabela2[\"SemanaFim\"]\n",
    "        resultado = linhaTabela2[\"NumSemana\"]\n",
    "        if limite_inferior <= valor <= limite_superior:\n",
    "            NovosUsuariosPorData.loc[i, \"NumSemana\"] = resultado"
   ]
  },
  {
   "cell_type": "code",
   "execution_count": 115,
   "metadata": {},
   "outputs": [
    {
     "data": {
      "text/html": [
       "<div>\n",
       "<style scoped>\n",
       "    .dataframe tbody tr th:only-of-type {\n",
       "        vertical-align: middle;\n",
       "    }\n",
       "\n",
       "    .dataframe tbody tr th {\n",
       "        vertical-align: top;\n",
       "    }\n",
       "\n",
       "    .dataframe thead th {\n",
       "        text-align: right;\n",
       "    }\n",
       "</style>\n",
       "<table border=\"1\" class=\"dataframe\">\n",
       "  <thead>\n",
       "    <tr style=\"text-align: right;\">\n",
       "      <th></th>\n",
       "      <th>NumSemana</th>\n",
       "      <th>Novos usuários únicos</th>\n",
       "    </tr>\n",
       "  </thead>\n",
       "  <tbody>\n",
       "    <tr>\n",
       "      <th>0</th>\n",
       "      <td>1</td>\n",
       "      <td>116855</td>\n",
       "    </tr>\n",
       "    <tr>\n",
       "      <th>1</th>\n",
       "      <td>2</td>\n",
       "      <td>428324</td>\n",
       "    </tr>\n",
       "    <tr>\n",
       "      <th>2</th>\n",
       "      <td>3</td>\n",
       "      <td>536276</td>\n",
       "    </tr>\n",
       "    <tr>\n",
       "      <th>3</th>\n",
       "      <td>4</td>\n",
       "      <td>500113</td>\n",
       "    </tr>\n",
       "    <tr>\n",
       "      <th>4</th>\n",
       "      <td>5</td>\n",
       "      <td>386414</td>\n",
       "    </tr>\n",
       "    <tr>\n",
       "      <th>5</th>\n",
       "      <td>6</td>\n",
       "      <td>432893</td>\n",
       "    </tr>\n",
       "    <tr>\n",
       "      <th>6</th>\n",
       "      <td>7</td>\n",
       "      <td>405984</td>\n",
       "    </tr>\n",
       "    <tr>\n",
       "      <th>7</th>\n",
       "      <td>8</td>\n",
       "      <td>1331564</td>\n",
       "    </tr>\n",
       "    <tr>\n",
       "      <th>8</th>\n",
       "      <td>9</td>\n",
       "      <td>911038</td>\n",
       "    </tr>\n",
       "    <tr>\n",
       "      <th>9</th>\n",
       "      <td>10</td>\n",
       "      <td>658048</td>\n",
       "    </tr>\n",
       "    <tr>\n",
       "      <th>10</th>\n",
       "      <td>11</td>\n",
       "      <td>826171</td>\n",
       "    </tr>\n",
       "    <tr>\n",
       "      <th>11</th>\n",
       "      <td>12</td>\n",
       "      <td>891030</td>\n",
       "    </tr>\n",
       "    <tr>\n",
       "      <th>12</th>\n",
       "      <td>13</td>\n",
       "      <td>1265737</td>\n",
       "    </tr>\n",
       "    <tr>\n",
       "      <th>13</th>\n",
       "      <td>14</td>\n",
       "      <td>593659</td>\n",
       "    </tr>\n",
       "    <tr>\n",
       "      <th>14</th>\n",
       "      <td>15</td>\n",
       "      <td>438181</td>\n",
       "    </tr>\n",
       "    <tr>\n",
       "      <th>15</th>\n",
       "      <td>16</td>\n",
       "      <td>708207</td>\n",
       "    </tr>\n",
       "    <tr>\n",
       "      <th>16</th>\n",
       "      <td>17</td>\n",
       "      <td>181015</td>\n",
       "    </tr>\n",
       "    <tr>\n",
       "      <th>17</th>\n",
       "      <td>18</td>\n",
       "      <td>115254</td>\n",
       "    </tr>\n",
       "    <tr>\n",
       "      <th>18</th>\n",
       "      <td>19</td>\n",
       "      <td>99428</td>\n",
       "    </tr>\n",
       "    <tr>\n",
       "      <th>19</th>\n",
       "      <td>20</td>\n",
       "      <td>142147</td>\n",
       "    </tr>\n",
       "    <tr>\n",
       "      <th>20</th>\n",
       "      <td>21</td>\n",
       "      <td>131600</td>\n",
       "    </tr>\n",
       "    <tr>\n",
       "      <th>21</th>\n",
       "      <td>22</td>\n",
       "      <td>181580</td>\n",
       "    </tr>\n",
       "    <tr>\n",
       "      <th>22</th>\n",
       "      <td>23</td>\n",
       "      <td>233799</td>\n",
       "    </tr>\n",
       "    <tr>\n",
       "      <th>23</th>\n",
       "      <td>24</td>\n",
       "      <td>100843</td>\n",
       "    </tr>\n",
       "    <tr>\n",
       "      <th>24</th>\n",
       "      <td>25</td>\n",
       "      <td>113115</td>\n",
       "    </tr>\n",
       "    <tr>\n",
       "      <th>25</th>\n",
       "      <td>26</td>\n",
       "      <td>99761</td>\n",
       "    </tr>\n",
       "    <tr>\n",
       "      <th>26</th>\n",
       "      <td>27</td>\n",
       "      <td>112940</td>\n",
       "    </tr>\n",
       "  </tbody>\n",
       "</table>\n",
       "</div>"
      ],
      "text/plain": [
       "    NumSemana  Novos usuários únicos\n",
       "0           1                 116855\n",
       "1           2                 428324\n",
       "2           3                 536276\n",
       "3           4                 500113\n",
       "4           5                 386414\n",
       "5           6                 432893\n",
       "6           7                 405984\n",
       "7           8                1331564\n",
       "8           9                 911038\n",
       "9          10                 658048\n",
       "10         11                 826171\n",
       "11         12                 891030\n",
       "12         13                1265737\n",
       "13         14                 593659\n",
       "14         15                 438181\n",
       "15         16                 708207\n",
       "16         17                 181015\n",
       "17         18                 115254\n",
       "18         19                  99428\n",
       "19         20                 142147\n",
       "20         21                 131600\n",
       "21         22                 181580\n",
       "22         23                 233799\n",
       "23         24                 100843\n",
       "24         25                 113115\n",
       "25         26                  99761\n",
       "26         27                 112940"
      ]
     },
     "execution_count": 115,
     "metadata": {},
     "output_type": "execute_result"
    }
   ],
   "source": [
    "# Convertando coluna de float para int\n",
    "novosUsuariosporSemana = NovosUsuariosPorData.groupby(\"NumSemana\")[\"Novos usuários únicos\"].sum().reset_index()\n",
    "novosUsuariosporSemana[\"Novos usuários únicos\"] = pd.to_numeric(novosUsuariosporSemana[\"Novos usuários únicos\"])\n",
    "novosUsuariosporSemana"
   ]
  },
  {
   "cell_type": "code",
   "execution_count": 125,
   "metadata": {},
   "outputs": [
    {
     "data": {
      "image/png": "[encoded data removed]",
      "text/plain": [
       "<Figure size 2000x600 with 1 Axes>"
      ]
     },
     "metadata": {},
     "output_type": "display_data"
    }
   ],
   "source": [
    "# Área da visualização e ocultar as bordas do gráfico exceto as do Eixo X e Y\n",
    "plt.figure(figsize=(20,6))\n",
    "custom_params = {\"axes.spines.right\": False, \"axes.spines.top\": False}\n",
    "\n",
    "# Tema mais limpo para a visualização com os parâmetros previamente descritos\n",
    "sns.set_theme(style=\"white\", rc=custom_params)\n",
    "\n",
    "# Criando variáveis que guardam a nota mínima, máxima, o array com todas as notas por ano\n",
    "# e os pontos a serem destacados pelo marcador\n",
    "nota_min = min(novosUsuariosporSemana[\"Novos usuários únicos\"])\n",
    "nota_max = max(novosUsuariosporSemana[\"Novos usuários únicos\"])\n",
    "valores = novosUsuariosporSemana[\"Novos usuários únicos\"].values\n",
    "pontos_a_marcar = list((valores == nota_min) | (valores == nota_max))\n",
    "\n",
    "# Adicionando título no gráfico\n",
    "plt.suptitle(\"Novos usuários por Semana\", size = 15, weight='bold')\n",
    "\n",
    "#Gráfico\n",
    "ax = sns.lineplot(data= novosUsuariosporSemana, x=\"NumSemana\", y=\"Novos usuários únicos\", marker =\"o\", markersize = 10, markerfacecolor = \"grey\",\n",
    "                  markevery = pontos_a_marcar)\n",
    "\n",
    "# Adicionando subtítulo no gráfico e ocultando as labels de cada eixo\n",
    "plt.title(\"Intervalo de 27-05 a 01-12 de 2021\", fontsize = 14, pad = 10)\n",
    "plt.ylabel(\"Novos usuários\", fontsize = 14)\n",
    "plt.xlabel(\"Semana\", fontsize = 14)\n",
    "\n",
    "# Adicionando o texto para a maior e a menor média e o ano em que ocorreram\n",
    "for x, y in zip(novosUsuariosporSemana[\"NumSemana\"], novosUsuariosporSemana[\"Novos usuários únicos\"]):\n",
    "  if y == nota_min:\n",
    "    ax.text(x = x + 0.1, y = y + 10, s = f\"Maior = {y:.2f} ({x:})\", color = \"green\", \n",
    "           weight = \"bold\", fontsize = 14)\n",
    "  if y == nota_max:\n",
    "    ax.text(x = x + 0.1, y = y - 20, s = f\"Menor = {y:.2f} ({x:})\", color = \"red\", \n",
    "           weight = \"bold\", fontsize = 14)\n",
    "\n"
   ]
  },
  {
   "cell_type": "code",
   "execution_count": 145,
   "metadata": {},
   "outputs": [
    {
     "data": {
      "text/html": [
       "<div>\n",
       "<style scoped>\n",
       "    .dataframe tbody tr th:only-of-type {\n",
       "        vertical-align: middle;\n",
       "    }\n",
       "\n",
       "    .dataframe tbody tr th {\n",
       "        vertical-align: top;\n",
       "    }\n",
       "\n",
       "    .dataframe thead th {\n",
       "        text-align: right;\n",
       "    }\n",
       "</style>\n",
       "<table border=\"1\" class=\"dataframe\">\n",
       "  <thead>\n",
       "    <tr style=\"text-align: right;\">\n",
       "      <th></th>\n",
       "      <th>data_mes</th>\n",
       "      <th>interacoes</th>\n",
       "      <th>quantidade</th>\n",
       "    </tr>\n",
       "  </thead>\n",
       "  <tbody>\n",
       "    <tr>\n",
       "      <th>0</th>\n",
       "      <td>6</td>\n",
       "      <td>Visitas Diretas</td>\n",
       "      <td>1229992</td>\n",
       "    </tr>\n",
       "    <tr>\n",
       "      <th>1</th>\n",
       "      <td>7</td>\n",
       "      <td>Visitas Diretas</td>\n",
       "      <td>2116531</td>\n",
       "    </tr>\n",
       "    <tr>\n",
       "      <th>2</th>\n",
       "      <td>8</td>\n",
       "      <td>Visitas Diretas</td>\n",
       "      <td>2408876</td>\n",
       "    </tr>\n",
       "    <tr>\n",
       "      <th>3</th>\n",
       "      <td>9</td>\n",
       "      <td>Visitas Diretas</td>\n",
       "      <td>957227</td>\n",
       "    </tr>\n",
       "    <tr>\n",
       "      <th>4</th>\n",
       "      <td>10</td>\n",
       "      <td>Visitas Diretas</td>\n",
       "      <td>446889</td>\n",
       "    </tr>\n",
       "    <tr>\n",
       "      <th>5</th>\n",
       "      <td>11</td>\n",
       "      <td>Visitas Diretas</td>\n",
       "      <td>304326</td>\n",
       "    </tr>\n",
       "    <tr>\n",
       "      <th>6</th>\n",
       "      <td>6</td>\n",
       "      <td>Clicks pagos</td>\n",
       "      <td>123830</td>\n",
       "    </tr>\n",
       "    <tr>\n",
       "      <th>7</th>\n",
       "      <td>7</td>\n",
       "      <td>Clicks pagos</td>\n",
       "      <td>77996</td>\n",
       "    </tr>\n",
       "    <tr>\n",
       "      <th>8</th>\n",
       "      <td>8</td>\n",
       "      <td>Clicks pagos</td>\n",
       "      <td>87077</td>\n",
       "    </tr>\n",
       "    <tr>\n",
       "      <th>9</th>\n",
       "      <td>9</td>\n",
       "      <td>Clicks pagos</td>\n",
       "      <td>5129</td>\n",
       "    </tr>\n",
       "    <tr>\n",
       "      <th>10</th>\n",
       "      <td>10</td>\n",
       "      <td>Clicks pagos</td>\n",
       "      <td>9027</td>\n",
       "    </tr>\n",
       "    <tr>\n",
       "      <th>11</th>\n",
       "      <td>11</td>\n",
       "      <td>Clicks pagos</td>\n",
       "      <td>32</td>\n",
       "    </tr>\n",
       "    <tr>\n",
       "      <th>12</th>\n",
       "      <td>6</td>\n",
       "      <td>Clicks redes sociais</td>\n",
       "      <td>3197990</td>\n",
       "    </tr>\n",
       "    <tr>\n",
       "      <th>13</th>\n",
       "      <td>7</td>\n",
       "      <td>Clicks redes sociais</td>\n",
       "      <td>5502955</td>\n",
       "    </tr>\n",
       "    <tr>\n",
       "      <th>14</th>\n",
       "      <td>8</td>\n",
       "      <td>Clicks redes sociais</td>\n",
       "      <td>6263004</td>\n",
       "    </tr>\n",
       "    <tr>\n",
       "      <th>15</th>\n",
       "      <td>9</td>\n",
       "      <td>Clicks redes sociais</td>\n",
       "      <td>2488689</td>\n",
       "    </tr>\n",
       "    <tr>\n",
       "      <th>16</th>\n",
       "      <td>10</td>\n",
       "      <td>Clicks redes sociais</td>\n",
       "      <td>1161833</td>\n",
       "    </tr>\n",
       "    <tr>\n",
       "      <th>17</th>\n",
       "      <td>11</td>\n",
       "      <td>Clicks redes sociais</td>\n",
       "      <td>791257</td>\n",
       "    </tr>\n",
       "    <tr>\n",
       "      <th>18</th>\n",
       "      <td>6</td>\n",
       "      <td>Vezes pesquisados</td>\n",
       "      <td>553512</td>\n",
       "    </tr>\n",
       "    <tr>\n",
       "      <th>19</th>\n",
       "      <td>7</td>\n",
       "      <td>Vezes pesquisados</td>\n",
       "      <td>952448</td>\n",
       "    </tr>\n",
       "    <tr>\n",
       "      <th>20</th>\n",
       "      <td>8</td>\n",
       "      <td>Vezes pesquisados</td>\n",
       "      <td>1083995</td>\n",
       "    </tr>\n",
       "    <tr>\n",
       "      <th>21</th>\n",
       "      <td>9</td>\n",
       "      <td>Vezes pesquisados</td>\n",
       "      <td>430739</td>\n",
       "    </tr>\n",
       "    <tr>\n",
       "      <th>22</th>\n",
       "      <td>10</td>\n",
       "      <td>Vezes pesquisados</td>\n",
       "      <td>201100</td>\n",
       "    </tr>\n",
       "    <tr>\n",
       "      <th>23</th>\n",
       "      <td>11</td>\n",
       "      <td>Vezes pesquisados</td>\n",
       "      <td>136951</td>\n",
       "    </tr>\n",
       "  </tbody>\n",
       "</table>\n",
       "</div>"
      ],
      "text/plain": [
       "    data_mes            interacoes  quantidade\n",
       "0          6       Visitas Diretas     1229992\n",
       "1          7       Visitas Diretas     2116531\n",
       "2          8       Visitas Diretas     2408876\n",
       "3          9       Visitas Diretas      957227\n",
       "4         10       Visitas Diretas      446889\n",
       "5         11       Visitas Diretas      304326\n",
       "6          6          Clicks pagos      123830\n",
       "7          7          Clicks pagos       77996\n",
       "8          8          Clicks pagos       87077\n",
       "9          9          Clicks pagos        5129\n",
       "10        10          Clicks pagos        9027\n",
       "11        11          Clicks pagos          32\n",
       "12         6  Clicks redes sociais     3197990\n",
       "13         7  Clicks redes sociais     5502955\n",
       "14         8  Clicks redes sociais     6263004\n",
       "15         9  Clicks redes sociais     2488689\n",
       "16        10  Clicks redes sociais     1161833\n",
       "17        11  Clicks redes sociais      791257\n",
       "18         6     Vezes pesquisados      553512\n",
       "19         7     Vezes pesquisados      952448\n",
       "20         8     Vezes pesquisados     1083995\n",
       "21         9     Vezes pesquisados      430739\n",
       "22        10     Vezes pesquisados      201100\n",
       "23        11     Vezes pesquisados      136951"
      ]
     },
     "execution_count": 145,
     "metadata": {},
     "output_type": "execute_result"
    }
   ],
   "source": [
    "# Agrupando categorias únicas e somando quantidade de visualizações\n",
    "dados_artigos[\"data_mes\"] =dados_artigos[\"Data\"].dt.month\n",
    "dadosInteracao = dados_artigos.groupby(\"data_mes\")[['Visitas Diretas', 'Clicks pagos', 'Clicks redes sociais', 'Vezes pesquisados']].sum()\n",
    "dadosInteracao = pd.DataFrame(dadosInteracao).reset_index()\n",
    "dadosInteracao\n",
    "dadosInteracaoMelt = dadosInteracao.melt(id_vars='data_mes', var_name='interacoes', value_name='quantidade')\n",
    "dadosInteracaoMelt"
   ]
  },
  {
   "cell_type": "code",
   "execution_count": 169,
   "metadata": {},
   "outputs": [
    {
     "data": {
      "text/plain": [
       "Text(0.5, 0, 'Mês')"
      ]
     },
     "execution_count": 169,
     "metadata": {},
     "output_type": "execute_result"
    },
    {
     "data": {
      "image/png": "[encoded data removed]",
      "text/plain": [
       "<Figure size 1200x900 with 1 Axes>"
      ]
     },
     "metadata": {},
     "output_type": "display_data"
    }
   ],
   "source": [
    "# Gráfico intereção com o artigo\n",
    "\n",
    "plt.figure(figsize=(12,9))\n",
    "custom_params = {\"axes.spines.right\": False, \"axes.spines.top\": False}\n",
    "sns.set_theme(style=\"white\" ,rc=custom_params)\n",
    "ax = sns.pointplot(data = dadosInteracaoMelt, x=\"data_mes\", y=\"quantidade\", color='green', hue=\"interacoes\", dodge=False)\n",
    "plt.title(\"Quantidade de Acesso por Interação\", weight=\"bold\")\n",
    "plt.ylabel(\"Quantidade\")\n",
    "plt.xlabel(\"Mês\")\n"
   ]
  }
 ],
 "metadata": {
  "kernelspec": {
   "display_name": ".venv",
   "language": "python",
   "name": "python3"
  },
  "language_info": {
   "codemirror_mode": {
    "name": "ipython",
    "version": 3
   },
   "file_extension": ".py",
   "mimetype": "text/x-python",
   "name": "python",
   "nbconvert_exporter": "python",
   "pygments_lexer": "ipython3",
   "version": "3.10.6"
  },
  "orig_nbformat": 4
 },
 "nbformat": 4,
 "nbformat_minor": 2
}
