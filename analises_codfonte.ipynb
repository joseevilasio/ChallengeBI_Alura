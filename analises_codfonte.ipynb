{
 "cells": [
  {
   "attachments": {},
   "cell_type": "markdown",
   "metadata": {},
   "source": [
    "A primeira empresa, Bloco de Código, precisa de um dashboard para monitorar a sua campanha de marketing durante o ano que a campanha foi realizada.\n",
    "\n",
    "![](assets/logo-bloco-de-codigo.png)"
   ]
  },
  {
   "attachments": {},
   "cell_type": "markdown",
   "metadata": {},
   "source": [
    "### Explorando os dados"
   ]
  },
  {
   "cell_type": "code",
   "execution_count": 180,
   "metadata": {},
   "outputs": [],
   "source": [
    "import pandas as pd\n",
    "import numpy as np\n",
    "import matplotlib.pyplot as plt"
   ]
  },
  {
   "cell_type": "code",
   "execution_count": 181,
   "metadata": {},
   "outputs": [
    {
     "data": {
      "text/html": [
       "<div>\n",
       "<style scoped>\n",
       "    .dataframe tbody tr th:only-of-type {\n",
       "        vertical-align: middle;\n",
       "    }\n",
       "\n",
       "    .dataframe tbody tr th {\n",
       "        vertical-align: top;\n",
       "    }\n",
       "\n",
       "    .dataframe thead th {\n",
       "        text-align: right;\n",
       "    }\n",
       "</style>\n",
       "<table border=\"1\" class=\"dataframe\">\n",
       "  <thead>\n",
       "    <tr style=\"text-align: right;\">\n",
       "      <th></th>\n",
       "      <th>Campanha</th>\n",
       "      <th>Visitas Diretas</th>\n",
       "      <th>Novos usuários únicos</th>\n",
       "      <th>Clicks pagos</th>\n",
       "      <th>Clicks redes sociais</th>\n",
       "      <th>Vezes pesquisados</th>\n",
       "    </tr>\n",
       "  </thead>\n",
       "  <tbody>\n",
       "    <tr>\n",
       "      <th>count</th>\n",
       "      <td>14104.0</td>\n",
       "      <td>14104.000000</td>\n",
       "      <td>14104.000000</td>\n",
       "      <td>14105.000000</td>\n",
       "      <td>14104.000000</td>\n",
       "      <td>14104.000000</td>\n",
       "    </tr>\n",
       "    <tr>\n",
       "      <th>mean</th>\n",
       "      <td>1047.0</td>\n",
       "      <td>93.232420</td>\n",
       "      <td>116.103359</td>\n",
       "      <td>1.596260</td>\n",
       "      <td>144.395955</td>\n",
       "      <td>61.220490</td>\n",
       "    </tr>\n",
       "    <tr>\n",
       "      <th>std</th>\n",
       "      <td>0.0</td>\n",
       "      <td>158.550484</td>\n",
       "      <td>174.454669</td>\n",
       "      <td>25.763735</td>\n",
       "      <td>194.516718</td>\n",
       "      <td>128.602467</td>\n",
       "    </tr>\n",
       "    <tr>\n",
       "      <th>min</th>\n",
       "      <td>1047.0</td>\n",
       "      <td>0.000000</td>\n",
       "      <td>0.000000</td>\n",
       "      <td>0.000000</td>\n",
       "      <td>0.000000</td>\n",
       "      <td>0.000000</td>\n",
       "    </tr>\n",
       "    <tr>\n",
       "      <th>25%</th>\n",
       "      <td>1047.0</td>\n",
       "      <td>11.000000</td>\n",
       "      <td>15.000000</td>\n",
       "      <td>0.000000</td>\n",
       "      <td>19.000000</td>\n",
       "      <td>6.000000</td>\n",
       "    </tr>\n",
       "    <tr>\n",
       "      <th>50%</th>\n",
       "      <td>1047.0</td>\n",
       "      <td>32.000000</td>\n",
       "      <td>45.000000</td>\n",
       "      <td>0.000000</td>\n",
       "      <td>61.000000</td>\n",
       "      <td>16.000000</td>\n",
       "    </tr>\n",
       "    <tr>\n",
       "      <th>75%</th>\n",
       "      <td>1047.0</td>\n",
       "      <td>97.000000</td>\n",
       "      <td>137.250000</td>\n",
       "      <td>0.000000</td>\n",
       "      <td>187.000000</td>\n",
       "      <td>51.000000</td>\n",
       "    </tr>\n",
       "    <tr>\n",
       "      <th>max</th>\n",
       "      <td>1047.0</td>\n",
       "      <td>999.000000</td>\n",
       "      <td>998.000000</td>\n",
       "      <td>842.000000</td>\n",
       "      <td>998.000000</td>\n",
       "      <td>998.000000</td>\n",
       "    </tr>\n",
       "  </tbody>\n",
       "</table>\n",
       "</div>"
      ],
      "text/plain": [
       "       Campanha  Visitas Diretas  Novos usuários únicos  Clicks pagos  \\\n",
       "count   14104.0     14104.000000           14104.000000  14105.000000   \n",
       "mean     1047.0        93.232420             116.103359      1.596260   \n",
       "std         0.0       158.550484             174.454669     25.763735   \n",
       "min      1047.0         0.000000               0.000000      0.000000   \n",
       "25%      1047.0        11.000000              15.000000      0.000000   \n",
       "50%      1047.0        32.000000              45.000000      0.000000   \n",
       "75%      1047.0        97.000000             137.250000      0.000000   \n",
       "max      1047.0       999.000000             998.000000    842.000000   \n",
       "\n",
       "       Clicks redes sociais  Vezes pesquisados  \n",
       "count          14104.000000       14104.000000  \n",
       "mean             144.395955          61.220490  \n",
       "std              194.516718         128.602467  \n",
       "min                0.000000           0.000000  \n",
       "25%               19.000000           6.000000  \n",
       "50%               61.000000          16.000000  \n",
       "75%              187.000000          51.000000  \n",
       "max              998.000000         998.000000  "
      ]
     },
     "execution_count": 181,
     "metadata": {},
     "output_type": "execute_result"
    }
   ],
   "source": [
    "dados_artigos = pd.read_csv(\"assets/campanha bloco de código - Artigos.csv\")\n",
    "dados_artigos.describe()"
   ]
  },
  {
   "cell_type": "code",
   "execution_count": 182,
   "metadata": {},
   "outputs": [
    {
     "name": "stdout",
     "output_type": "stream",
     "text": [
      "<class 'pandas.core.frame.DataFrame'>\n",
      "RangeIndex: 14105 entries, 0 to 14104\n",
      "Data columns (total 12 columns):\n",
      " #   Column                      Non-Null Count  Dtype  \n",
      "---  ------                      --------------  -----  \n",
      " 0   Article URL                 14104 non-null  object \n",
      " 1   Nome do artigo              14104 non-null  object \n",
      " 2   Categoria                   14104 non-null  object \n",
      " 3   Campanha                    14104 non-null  float64\n",
      " 4   Data                        14104 non-null  object \n",
      " 5   Visitas Diretas             14104 non-null  float64\n",
      " 6   Novos usuários únicos       14104 non-null  float64\n",
      " 7   Clicks pagos                14105 non-null  float64\n",
      " 8   Tempo de leitura (minutos)  14104 non-null  object \n",
      " 9   Clicks redes sociais        14104 non-null  float64\n",
      " 10  Vezes pesquisados           14104 non-null  float64\n",
      " 11  Visualizações               14104 non-null  object \n",
      "dtypes: float64(6), object(6)\n",
      "memory usage: 1.3+ MB\n"
     ]
    }
   ],
   "source": [
    "dados_artigos.info()"
   ]
  },
  {
   "cell_type": "code",
   "execution_count": 183,
   "metadata": {},
   "outputs": [
    {
     "data": {
      "text/plain": [
       "(14105, 12)"
      ]
     },
     "execution_count": 183,
     "metadata": {},
     "output_type": "execute_result"
    }
   ],
   "source": [
    "# Informação da quantidade de colunas e linhas\n",
    "dados_artigos.shape"
   ]
  },
  {
   "cell_type": "code",
   "execution_count": 184,
   "metadata": {},
   "outputs": [
    {
     "data": {
      "text/plain": [
       "Article URL                   0.00709\n",
       "Nome do artigo                0.00709\n",
       "Categoria                     0.00709\n",
       "Campanha                      0.00709\n",
       "Data                          0.00709\n",
       "Visitas Diretas               0.00709\n",
       "Novos usuários únicos         0.00709\n",
       "Clicks pagos                  0.00000\n",
       "Tempo de leitura (minutos)    0.00709\n",
       "Clicks redes sociais          0.00709\n",
       "Vezes pesquisados             0.00709\n",
       "Visualizações                 0.00709\n",
       "dtype: float64"
      ]
     },
     "execution_count": 184,
     "metadata": {},
     "output_type": "execute_result"
    }
   ],
   "source": [
    "# Percentual de NaN por coluna\n",
    "(dados_artigos.isnull().sum() / dados_artigos.shape[0]) * 100"
   ]
  },
  {
   "attachments": {},
   "cell_type": "markdown",
   "metadata": {},
   "source": [
    "### Transformando Dados"
   ]
  },
  {
   "cell_type": "code",
   "execution_count": 185,
   "metadata": {},
   "outputs": [],
   "source": [
    "# Apagando dados NaN - menos de 1%, no caso uma linha que havia total\n",
    "dados_artigos.dropna(inplace=True)"
   ]
  },
  {
   "cell_type": "code",
   "execution_count": 186,
   "metadata": {},
   "outputs": [
    {
     "name": "stdout",
     "output_type": "stream",
     "text": [
      "<class 'pandas.core.frame.DataFrame'>\n",
      "Index: 14104 entries, 0 to 14103\n",
      "Data columns (total 12 columns):\n",
      " #   Column                      Non-Null Count  Dtype  \n",
      "---  ------                      --------------  -----  \n",
      " 0   Article URL                 14104 non-null  object \n",
      " 1   Nome do artigo              14104 non-null  object \n",
      " 2   Categoria                   14104 non-null  object \n",
      " 3   Campanha                    14104 non-null  float64\n",
      " 4   Data                        14104 non-null  object \n",
      " 5   Visitas Diretas             14104 non-null  float64\n",
      " 6   Novos usuários únicos       14104 non-null  float64\n",
      " 7   Clicks pagos                14104 non-null  float64\n",
      " 8   Tempo de leitura (minutos)  14104 non-null  object \n",
      " 9   Clicks redes sociais        14104 non-null  float64\n",
      " 10  Vezes pesquisados           14104 non-null  float64\n",
      " 11  Visualizações               14104 non-null  object \n",
      "dtypes: float64(6), object(6)\n",
      "memory usage: 1.4+ MB\n"
     ]
    }
   ],
   "source": [
    "dados_artigos.info()"
   ]
  },
  {
   "cell_type": "code",
   "execution_count": 187,
   "metadata": {},
   "outputs": [],
   "source": [
    "# Convertando string em datetime\n",
    "dados_artigos[\"Data\"] = pd.to_datetime(dados_artigos[\"Data\"])"
   ]
  },
  {
   "cell_type": "code",
   "execution_count": 188,
   "metadata": {},
   "outputs": [],
   "source": [
    "# Trantando Coluna Tempo de Leitura removendo espaços\n",
    "dados_artigos[\"Tempo de leitura (minutos)\"] = dados_artigos[\"Tempo de leitura (minutos)\"].str.strip()"
   ]
  },
  {
   "cell_type": "code",
   "execution_count": 189,
   "metadata": {},
   "outputs": [],
   "source": [
    "# Trantando Coluna Tempo de Leitura removendo pontos\n",
    "dados_artigos[\"Tempo de leitura (minutos)\"] = dados_artigos[\"Tempo de leitura (minutos)\"].str.replace(\".\", \"\")"
   ]
  },
  {
   "cell_type": "code",
   "execution_count": 190,
   "metadata": {},
   "outputs": [],
   "source": [
    "# Trantando Coluna Tempo de Leitura convertendo de string para int\n",
    "dados_artigos[\"Tempo de leitura (minutos)\"] = pd.to_numeric(dados_artigos[\"Tempo de leitura (minutos)\"])"
   ]
  },
  {
   "cell_type": "code",
   "execution_count": 191,
   "metadata": {},
   "outputs": [],
   "source": [
    "# Trantando Coluna Visualizações removendo espaços\n",
    "dados_artigos[\"Visualizações\"] = dados_artigos[\"Visualizações\"].str.strip()"
   ]
  },
  {
   "cell_type": "code",
   "execution_count": 192,
   "metadata": {},
   "outputs": [],
   "source": [
    "# Trantando Coluna Visualizações removendo pontos\n",
    "dados_artigos[\"Visualizações\"] = dados_artigos[\"Visualizações\"].str.replace(\".\", \"\")"
   ]
  },
  {
   "cell_type": "code",
   "execution_count": 193,
   "metadata": {},
   "outputs": [],
   "source": [
    "# Trantando Coluna Visualizações convertendo de string para int\n",
    "dados_artigos[\"Visualizações\"] = pd.to_numeric(dados_artigos[\"Visualizações\"])"
   ]
  },
  {
   "cell_type": "code",
   "execution_count": 194,
   "metadata": {},
   "outputs": [
    {
     "data": {
      "text/plain": [
       "Categoria\n",
       "Gestão          4936\n",
       "Data Science    3791\n",
       "Tecnologia      2095\n",
       "Negócios        1104\n",
       "UX               825\n",
       "DevOps           780\n",
       "Programação      474\n",
       "Marketing         99\n",
       "Name: count, dtype: int64"
      ]
     },
     "execution_count": 194,
     "metadata": {},
     "output_type": "execute_result"
    }
   ],
   "source": [
    "# Categorias\n",
    "dados_artigos[\"Categoria\"].value_counts()"
   ]
  },
  {
   "cell_type": "code",
   "execution_count": 195,
   "metadata": {},
   "outputs": [
    {
     "data": {
      "text/plain": [
       "Nome do artigo\n",
       "Recomendações de experiência do usuário                         183\n",
       "Equilibrando a criatividade e continuidade                      182\n",
       "Como ler seu trabalho em voz alta melhora sua escrita           180\n",
       "Treinando efetivamente suas novas contratações                  175\n",
       "Tecnologia em que você deve investir agora                      173\n",
       "                                                               ... \n",
       "6 maneiras de aumentar sua taxa de engajamento                    1\n",
       "O maior equívoco sobre nuvem                                      1\n",
       "Pense novamente: quem é sua maior competição?                     1\n",
       "5 Estratégias para fornecer feedback dos funcionários             1\n",
       "Como usar o feedback para acelerar o crescimento da carreira      1\n",
       "Name: count, Length: 168, dtype: int64"
      ]
     },
     "execution_count": 195,
     "metadata": {},
     "output_type": "execute_result"
    }
   ],
   "source": [
    "# Artigos\n",
    "dados_artigos[\"Nome do artigo\"].value_counts()"
   ]
  },
  {
   "cell_type": "code",
   "execution_count": 196,
   "metadata": {},
   "outputs": [
    {
     "data": {
      "text/plain": [
       "168"
      ]
     },
     "execution_count": 196,
     "metadata": {},
     "output_type": "execute_result"
    }
   ],
   "source": [
    "# Quantidade de artigos únicos\n",
    "quant_artigos = len(dados_artigos[\"Nome do artigo\"].unique())\n",
    "quant_artigos"
   ]
  },
  {
   "cell_type": "code",
   "execution_count": 215,
   "metadata": {},
   "outputs": [
    {
     "data": {
      "text/plain": [
       "['Gestão',\n",
       " 'Data Science',\n",
       " 'Tecnologia',\n",
       " 'Negócios',\n",
       " 'Programação',\n",
       " 'DevOps',\n",
       " 'UX',\n",
       " 'Marketing']"
      ]
     },
     "execution_count": 215,
     "metadata": {},
     "output_type": "execute_result"
    }
   ],
   "source": [
    "lista_categorias = list(dados_artigos[\"Categoria\"].unique())\n",
    "lista_categorias"
   ]
  },
  {
   "attachments": {},
   "cell_type": "markdown",
   "metadata": {},
   "source": [
    "### Gerando informações"
   ]
  },
  {
   "cell_type": "code",
   "execution_count": 197,
   "metadata": {},
   "outputs": [
    {
     "data": {
      "text/plain": [
       "0        889.242\n",
       "1        708.374\n",
       "2        532.416\n",
       "3        491.405\n",
       "4        384.634\n",
       "          ...   \n",
       "14099      0.000\n",
       "14100      0.000\n",
       "14101      0.000\n",
       "14102      0.000\n",
       "14103      0.000\n",
       "Name: TotalCliques, Length: 14104, dtype: float64"
      ]
     },
     "execution_count": 197,
     "metadata": {},
     "output_type": "execute_result"
    }
   ],
   "source": [
    "# Total de Clique\n",
    "dados_artigos[\"TotalCliques\"] = dados_artigos[\"Clicks pagos\"] + dados_artigos[\"Clicks redes sociais\"]\n",
    "dados_artigos[\"TotalCliques\"]"
   ]
  },
  {
   "cell_type": "code",
   "execution_count": 198,
   "metadata": {},
   "outputs": [
    {
     "data": {
      "text/plain": [
       "0        100.0\n",
       "1        100.0\n",
       "2        100.0\n",
       "3        100.0\n",
       "4        100.0\n",
       "         ...  \n",
       "14099      NaN\n",
       "14100      NaN\n",
       "14101      NaN\n",
       "14102      NaN\n",
       "14103      NaN\n",
       "Name: PercentualCliqueRedesSociais, Length: 14104, dtype: float64"
      ]
     },
     "execution_count": 198,
     "metadata": {},
     "output_type": "execute_result"
    }
   ],
   "source": [
    "# Percentual de Cliques obtidos nas redes sociais\n",
    "dados_artigos[\"PercentualCliqueRedesSociais\"] = (dados_artigos[\"Clicks redes sociais\"] / dados_artigos[\"TotalCliques\"]) * 100\n",
    "dados_artigos[\"PercentualCliqueRedesSociais\"]"
   ]
  },
  {
   "cell_type": "code",
   "execution_count": 199,
   "metadata": {},
   "outputs": [
    {
     "data": {
      "text/plain": [
       "0        0.051999\n",
       "1        0.051996\n",
       "2        0.051996\n",
       "3        0.051995\n",
       "4        0.051999\n",
       "           ...   \n",
       "14099         NaN\n",
       "14100         NaN\n",
       "14101         NaN\n",
       "14102         NaN\n",
       "14103         NaN\n",
       "Name: CTR, Length: 14104, dtype: float64"
      ]
     },
     "execution_count": 199,
     "metadata": {},
     "output_type": "execute_result"
    }
   ],
   "source": [
    "# Percentual CTR Click Through Rate = Total de Clique / Total de Visualizações\n",
    "dados_artigos[\"CTR\"] = (dados_artigos[\"TotalCliques\"] / dados_artigos[\"Visualizações\"]) * 100\n",
    "dados_artigos[\"CTR\"]"
   ]
  },
  {
   "cell_type": "code",
   "execution_count": 200,
   "metadata": {},
   "outputs": [
    {
     "data": {
      "text/plain": [
       "0        0.009000\n",
       "1        0.008999\n",
       "2        0.008999\n",
       "3        0.008999\n",
       "4        0.009000\n",
       "           ...   \n",
       "14099         NaN\n",
       "14100         NaN\n",
       "14101         NaN\n",
       "14102         NaN\n",
       "14103         NaN\n",
       "Name: PercentualVezPesquisado, Length: 14104, dtype: float64"
      ]
     },
     "execution_count": 200,
     "metadata": {},
     "output_type": "execute_result"
    }
   ],
   "source": [
    "# Percentual de vezes pesquisados\n",
    "dados_artigos[\"PercentualVezPesquisado\"] = (dados_artigos[\"Vezes pesquisados\"] / dados_artigos[\"Visualizações\"]) * 100\n",
    "dados_artigos[\"PercentualVezPesquisado\"]"
   ]
  },
  {
   "cell_type": "code",
   "execution_count": 201,
   "metadata": {},
   "outputs": [
    {
     "data": {
      "text/plain": [
       "0        0.0\n",
       "1        0.0\n",
       "2        0.0\n",
       "3        0.0\n",
       "4        0.0\n",
       "        ... \n",
       "14099    NaN\n",
       "14100    NaN\n",
       "14101    NaN\n",
       "14102    NaN\n",
       "14103    NaN\n",
       "Name: PercentualCliquesPagos, Length: 14104, dtype: float64"
      ]
     },
     "execution_count": 201,
     "metadata": {},
     "output_type": "execute_result"
    }
   ],
   "source": [
    "# Percentual de cliques pagos\n",
    "dados_artigos[\"PercentualCliquesPagos\"] = (dados_artigos[\"Clicks pagos\"] / dados_artigos[\"Visualizações\"]) * 100\n",
    "dados_artigos[\"PercentualCliquesPagos\"]"
   ]
  },
  {
   "cell_type": "code",
   "execution_count": 202,
   "metadata": {},
   "outputs": [
    {
     "data": {
      "text/plain": [
       "0        0.020000\n",
       "1        0.019999\n",
       "2        0.019998\n",
       "3        0.019998\n",
       "4        0.020000\n",
       "           ...   \n",
       "14099         NaN\n",
       "14100         NaN\n",
       "14101         NaN\n",
       "14102         NaN\n",
       "14103         NaN\n",
       "Name: PercentualVisitasDiritas, Length: 14104, dtype: float64"
      ]
     },
     "execution_count": 202,
     "metadata": {},
     "output_type": "execute_result"
    }
   ],
   "source": [
    "# percentual de visitas diretas\n",
    "dados_artigos[\"PercentualVisitasDiritas\"] = (dados_artigos[\"Visitas Diretas\"] / dados_artigos[\"Visualizações\"]) * 100\n",
    "dados_artigos[\"PercentualVisitasDiritas\"]"
   ]
  },
  {
   "cell_type": "code",
   "execution_count": 203,
   "metadata": {},
   "outputs": [
    {
     "data": {
      "text/plain": [
       "226352.80357142858"
      ]
     },
     "execution_count": 203,
     "metadata": {},
     "output_type": "execute_result"
    }
   ],
   "source": [
    "#Buscar a média de visualização dos artigos.\n",
    "media_visualizacoes = dados_artigos[\"Visualizações\"].sum() / quant_artigos\n",
    "media_visualizacoes"
   ]
  },
  {
   "cell_type": "code",
   "execution_count": 204,
   "metadata": {},
   "outputs": [],
   "source": [
    "# Gerar limites visualizações\n",
    "valor = dados_artigos[\"Visualizações\"]\n",
    "Q1 = valor.quantile(.25)\n",
    "Q3 = valor.quantile(.75)\n",
    "IIQ = Q3 - Q1\n",
    "limite_inferior = Q1 - 1.5 * IIQ\n",
    "limite_superior = Q3 + 1.5 * IIQ"
   ]
  },
  {
   "cell_type": "code",
   "execution_count": 205,
   "metadata": {},
   "outputs": [],
   "source": [
    "# Agrupando Artigos únicos e somando quantidade de visualizações\n",
    "dadosArtigosVisualizacoes = dados_artigos.groupby(\"Nome do artigo\")[\"Visualizações\"].sum()\n",
    "dadosArtigosVisualizacoes = pd.DataFrame(dadosArtigosVisualizacoes)"
   ]
  },
  {
   "cell_type": "code",
   "execution_count": 206,
   "metadata": {},
   "outputs": [
    {
     "data": {
      "text/html": [
       "<div>\n",
       "<style scoped>\n",
       "    .dataframe tbody tr th:only-of-type {\n",
       "        vertical-align: middle;\n",
       "    }\n",
       "\n",
       "    .dataframe tbody tr th {\n",
       "        vertical-align: top;\n",
       "    }\n",
       "\n",
       "    .dataframe thead th {\n",
       "        text-align: right;\n",
       "    }\n",
       "</style>\n",
       "<table border=\"1\" class=\"dataframe\">\n",
       "  <thead>\n",
       "    <tr style=\"text-align: right;\">\n",
       "      <th></th>\n",
       "      <th>Visualizações</th>\n",
       "    </tr>\n",
       "    <tr>\n",
       "      <th>Nome do artigo</th>\n",
       "      <th></th>\n",
       "    </tr>\n",
       "  </thead>\n",
       "  <tbody>\n",
       "    <tr>\n",
       "      <th>Escuta ativa e como isso mudará sua abordagem</th>\n",
       "      <td>2695889</td>\n",
       "    </tr>\n",
       "    <tr>\n",
       "      <th>Conteúdo e marketing além do consumo em massa</th>\n",
       "      <td>1899028</td>\n",
       "    </tr>\n",
       "    <tr>\n",
       "      <th>Melhores práticas para gerenciamento de projetos</th>\n",
       "      <td>1804652</td>\n",
       "    </tr>\n",
       "    <tr>\n",
       "      <th>Conselho Executivo Parte 2: CFO</th>\n",
       "      <td>1760966</td>\n",
       "    </tr>\n",
       "    <tr>\n",
       "      <th>Observabilidade da ciência de dados para executivos</th>\n",
       "      <td>1450890</td>\n",
       "    </tr>\n",
       "    <tr>\n",
       "      <th>Como ler seu trabalho em voz alta melhora sua escrita</th>\n",
       "      <td>1241974</td>\n",
       "    </tr>\n",
       "    <tr>\n",
       "      <th>Aprenda quando ir com o fluxo</th>\n",
       "      <td>1204761</td>\n",
       "    </tr>\n",
       "    <tr>\n",
       "      <th>Desbloqueando o acesso aos seus dados</th>\n",
       "      <td>1161179</td>\n",
       "    </tr>\n",
       "    <tr>\n",
       "      <th>Principais dicas para consolidar sua pilha de tecnologia</th>\n",
       "      <td>1157479</td>\n",
       "    </tr>\n",
       "    <tr>\n",
       "      <th>Melhores práticas para gerenciamento de dados</th>\n",
       "      <td>857296</td>\n",
       "    </tr>\n",
       "    <tr>\n",
       "      <th>Por que estou voltando para uma carreira em tecnologia</th>\n",
       "      <td>812841</td>\n",
       "    </tr>\n",
       "    <tr>\n",
       "      <th>Blockchain: um catalisador para a lucratividade na indústria da cadeia de suprimentos</th>\n",
       "      <td>803747</td>\n",
       "    </tr>\n",
       "    <tr>\n",
       "      <th>Principais tendências de análise em hospitalidade</th>\n",
       "      <td>780685</td>\n",
       "    </tr>\n",
       "    <tr>\n",
       "      <th>Recomendações de experiência do usuário</th>\n",
       "      <td>676860</td>\n",
       "    </tr>\n",
       "    <tr>\n",
       "      <th>Saldo de conteúdo: grátis vs. pago</th>\n",
       "      <td>602427</td>\n",
       "    </tr>\n",
       "    <tr>\n",
       "      <th>Conte histórias para cativar seu público</th>\n",
       "      <td>565681</td>\n",
       "    </tr>\n",
       "    <tr>\n",
       "      <th>Reinventando a personalização para a experiência do cliente</th>\n",
       "      <td>559940</td>\n",
       "    </tr>\n",
       "    <tr>\n",
       "      <th>Visualização Dive Deep Dive: Parte-Towhole</th>\n",
       "      <td>498794</td>\n",
       "    </tr>\n",
       "    <tr>\n",
       "      <th>Estratégias de treinamento eficientes</th>\n",
       "      <td>475117</td>\n",
       "    </tr>\n",
       "    <tr>\n",
       "      <th>O futuro dos chatbots</th>\n",
       "      <td>438636</td>\n",
       "    </tr>\n",
       "    <tr>\n",
       "      <th>Visualização Dive Deep Dive: Mudança ao longo do tempo</th>\n",
       "      <td>422696</td>\n",
       "    </tr>\n",
       "    <tr>\n",
       "      <th>Treinando efetivamente suas novas contratações</th>\n",
       "      <td>392874</td>\n",
       "    </tr>\n",
       "    <tr>\n",
       "      <th>Conectando -se a uma força de trabalho remota</th>\n",
       "      <td>370600</td>\n",
       "    </tr>\n",
       "    <tr>\n",
       "      <th>Ciência e Inovação de Dados</th>\n",
       "      <td>348361</td>\n",
       "    </tr>\n",
       "    <tr>\n",
       "      <th>Como lançar suas idéias para as partes interessadas</th>\n",
       "      <td>339218</td>\n",
       "    </tr>\n",
       "    <tr>\n",
       "      <th>Aprendizagem não supervisionada: modelagem de dados</th>\n",
       "      <td>337758</td>\n",
       "    </tr>\n",
       "    <tr>\n",
       "      <th>Planejando uma solução em nuvem</th>\n",
       "      <td>325054</td>\n",
       "    </tr>\n",
       "    <tr>\n",
       "      <th>4 razões pelas quais os investidores devem seguir as tendências tecnológicas</th>\n",
       "      <td>322850</td>\n",
       "    </tr>\n",
       "    <tr>\n",
       "      <th>Aprendendo mais com seus funcionários</th>\n",
       "      <td>309541</td>\n",
       "    </tr>\n",
       "    <tr>\n",
       "      <th>De acordo com nossos especialistas: Administração</th>\n",
       "      <td>309180</td>\n",
       "    </tr>\n",
       "    <tr>\n",
       "      <th>Ciência de dados e redes sociais</th>\n",
       "      <td>295514</td>\n",
       "    </tr>\n",
       "    <tr>\n",
       "      <th>Principais tendências de análise em finanças</th>\n",
       "      <td>290656</td>\n",
       "    </tr>\n",
       "    <tr>\n",
       "      <th>Melhores maneiras de aprender o básico da codificação</th>\n",
       "      <td>262295</td>\n",
       "    </tr>\n",
       "    <tr>\n",
       "      <th>Conselho executivo Parte 1: CTO</th>\n",
       "      <td>261574</td>\n",
       "    </tr>\n",
       "    <tr>\n",
       "      <th>Dicas e truques de modelagem de dados</th>\n",
       "      <td>260984</td>\n",
       "    </tr>\n",
       "    <tr>\n",
       "      <th>Sempre faça seu dever de casa UX</th>\n",
       "      <td>259069</td>\n",
       "    </tr>\n",
       "    <tr>\n",
       "      <th>Estabelecendo sua equipe para o sucesso</th>\n",
       "      <td>253268</td>\n",
       "    </tr>\n",
       "    <tr>\n",
       "      <th>Estabelecendo a confiança de dados</th>\n",
       "      <td>246536</td>\n",
       "    </tr>\n",
       "    <tr>\n",
       "      <th>Como nossa plataforma elevará sua organização</th>\n",
       "      <td>240075</td>\n",
       "    </tr>\n",
       "    <tr>\n",
       "      <th>Perspectivas de análise de big data em marketing</th>\n",
       "      <td>234988</td>\n",
       "    </tr>\n",
       "    <tr>\n",
       "      <th>As perguntas certas para fazer seus funcionários</th>\n",
       "      <td>227271</td>\n",
       "    </tr>\n",
       "  </tbody>\n",
       "</table>\n",
       "</div>"
      ],
      "text/plain": [
       "                                                    Visualizações\n",
       "Nome do artigo                                                   \n",
       "Escuta ativa e como isso mudará sua abordagem             2695889\n",
       "Conteúdo e marketing além do consumo em massa             1899028\n",
       "Melhores práticas para gerenciamento de projetos          1804652\n",
       "Conselho Executivo Parte 2: CFO                           1760966\n",
       "Observabilidade da ciência de dados para execut...        1450890\n",
       "Como ler seu trabalho em voz alta melhora sua e...        1241974\n",
       "Aprenda quando ir com o fluxo                             1204761\n",
       "Desbloqueando o acesso aos seus dados                     1161179\n",
       "Principais dicas para consolidar sua pilha de t...        1157479\n",
       "Melhores práticas para gerenciamento de dados              857296\n",
       "Por que estou voltando para uma carreira em tec...         812841\n",
       "Blockchain: um catalisador para a lucratividade...         803747\n",
       "Principais tendências de análise em hospitalidade          780685\n",
       "Recomendações de experiência do usuário                    676860\n",
       "Saldo de conteúdo: grátis vs. pago                         602427\n",
       "Conte histórias para cativar seu público                   565681\n",
       "Reinventando a personalização para a experiênci...         559940\n",
       "Visualização Dive Deep Dive: Parte-Towhole                 498794\n",
       "Estratégias de treinamento eficientes                      475117\n",
       "O futuro dos chatbots                                      438636\n",
       "Visualização Dive Deep Dive: Mudança ao longo d...         422696\n",
       "Treinando efetivamente suas novas contratações             392874\n",
       "Conectando -se a uma força de trabalho remota              370600\n",
       "Ciência e Inovação de Dados                                348361\n",
       "Como lançar suas idéias para as partes interess...         339218\n",
       "Aprendizagem não supervisionada: modelagem de d...         337758\n",
       "Planejando uma solução em nuvem                            325054\n",
       "4 razões pelas quais os investidores devem segu...         322850\n",
       "Aprendendo mais com seus funcionários                      309541\n",
       "De acordo com nossos especialistas: Administração          309180\n",
       "Ciência de dados e redes sociais                           295514\n",
       "Principais tendências de análise em finanças               290656\n",
       "Melhores maneiras de aprender o básico da codif...         262295\n",
       "Conselho executivo Parte 1: CTO                            261574\n",
       "Dicas e truques de modelagem de dados                      260984\n",
       "Sempre faça seu dever de casa UX                           259069\n",
       "Estabelecendo sua equipe para o sucesso                    253268\n",
       "Estabelecendo a confiança de dados                         246536\n",
       "Como nossa plataforma elevará sua organização              240075\n",
       "Perspectivas de análise de big data em marketing           234988\n",
       "As perguntas certas para fazer seus funcionários           227271"
      ]
     },
     "execution_count": 206,
     "metadata": {},
     "output_type": "execute_result"
    }
   ],
   "source": [
    "# Artigos acima da média de visualizações\n",
    "dadosArtigosVisualizacoes.query(\"Visualizações >= @media_visualizacoes\").sort_values(by=\"Visualizações\", ascending=False)"
   ]
  },
  {
   "cell_type": "code",
   "execution_count": 207,
   "metadata": {},
   "outputs": [
    {
     "data": {
      "text/html": [
       "<div>\n",
       "<style scoped>\n",
       "    .dataframe tbody tr th:only-of-type {\n",
       "        vertical-align: middle;\n",
       "    }\n",
       "\n",
       "    .dataframe tbody tr th {\n",
       "        vertical-align: top;\n",
       "    }\n",
       "\n",
       "    .dataframe thead th {\n",
       "        text-align: right;\n",
       "    }\n",
       "</style>\n",
       "<table border=\"1\" class=\"dataframe\">\n",
       "  <thead>\n",
       "    <tr style=\"text-align: right;\">\n",
       "      <th></th>\n",
       "      <th>Visualizações</th>\n",
       "    </tr>\n",
       "    <tr>\n",
       "      <th>Nome do artigo</th>\n",
       "      <th></th>\n",
       "    </tr>\n",
       "  </thead>\n",
       "  <tbody>\n",
       "    <tr>\n",
       "      <th>Como usar o feedback para acelerar o crescimento da carreira</th>\n",
       "      <td>26</td>\n",
       "    </tr>\n",
       "    <tr>\n",
       "      <th>Principais habilidades da força de trabalho</th>\n",
       "      <td>55</td>\n",
       "    </tr>\n",
       "    <tr>\n",
       "      <th>Escolhendo os parceiros de tecnologia certos</th>\n",
       "      <td>63</td>\n",
       "    </tr>\n",
       "    <tr>\n",
       "      <th>Repensando e prevendo o futuro da publicidade por e -mail</th>\n",
       "      <td>69</td>\n",
       "    </tr>\n",
       "    <tr>\n",
       "      <th>Onde, quando e como enviar sua escrita</th>\n",
       "      <td>75</td>\n",
       "    </tr>\n",
       "    <tr>\n",
       "      <th>...</th>\n",
       "      <td>...</td>\n",
       "    </tr>\n",
       "    <tr>\n",
       "      <th>Como facilitar on -line eficazes</th>\n",
       "      <td>206960</td>\n",
       "    </tr>\n",
       "    <tr>\n",
       "      <th>Modernizando seus aplicativos</th>\n",
       "      <td>211739</td>\n",
       "    </tr>\n",
       "    <tr>\n",
       "      <th>O que vem a seguir: criptomoeda</th>\n",
       "      <td>212731</td>\n",
       "    </tr>\n",
       "    <tr>\n",
       "      <th>Você precisa de experiência em funcionários digitais para ser um bom líder?</th>\n",
       "      <td>216238</td>\n",
       "    </tr>\n",
       "    <tr>\n",
       "      <th>Como ter sucesso em sua carreira, apoiado por pesquisa</th>\n",
       "      <td>224855</td>\n",
       "    </tr>\n",
       "  </tbody>\n",
       "</table>\n",
       "<p>127 rows × 1 columns</p>\n",
       "</div>"
      ],
      "text/plain": [
       "                                                    Visualizações\n",
       "Nome do artigo                                                   \n",
       "Como usar o feedback para acelerar o cresciment...             26\n",
       "Principais habilidades da força de trabalho                    55\n",
       "Escolhendo os parceiros de tecnologia certos                   63\n",
       "Repensando e prevendo o futuro da publicidade p...             69\n",
       "Onde, quando e como enviar sua escrita                         75\n",
       "...                                                           ...\n",
       "Como facilitar on -line eficazes                           206960\n",
       "Modernizando seus aplicativos                              211739\n",
       "O que vem a seguir: criptomoeda                            212731\n",
       "Você precisa de experiência em funcionários dig...         216238\n",
       "Como ter sucesso em sua carreira, apoiado por p...         224855\n",
       "\n",
       "[127 rows x 1 columns]"
      ]
     },
     "execution_count": 207,
     "metadata": {},
     "output_type": "execute_result"
    }
   ],
   "source": [
    "# Artigos abaixo da média de visualizações\n",
    "dadosArtigosVisualizacoes.query(\"Visualizações < @media_visualizacoes\").sort_values(by=\"Visualizações\", ascending=True)"
   ]
  },
  {
   "cell_type": "code",
   "execution_count": 208,
   "metadata": {},
   "outputs": [],
   "source": [
    "# Agrupando categorias únicas e somando quantidade de visualizações\n",
    "dadosCategoriasVisualizacoes = dados_artigos.groupby(\"Categoria\")[\"Visualizações\"].sum()\n",
    "dadosCategoriasVisualizacoes = pd.DataFrame(dadosCategoriasVisualizacoes).reset_index()"
   ]
  },
  {
   "cell_type": "code",
   "execution_count": 209,
   "metadata": {},
   "outputs": [
    {
     "data": {
      "text/html": [
       "<div>\n",
       "<style scoped>\n",
       "    .dataframe tbody tr th:only-of-type {\n",
       "        vertical-align: middle;\n",
       "    }\n",
       "\n",
       "    .dataframe tbody tr th {\n",
       "        vertical-align: top;\n",
       "    }\n",
       "\n",
       "    .dataframe thead th {\n",
       "        text-align: right;\n",
       "    }\n",
       "</style>\n",
       "<table border=\"1\" class=\"dataframe\">\n",
       "  <thead>\n",
       "    <tr style=\"text-align: right;\">\n",
       "      <th></th>\n",
       "      <th>Categoria</th>\n",
       "      <th>Visualizações</th>\n",
       "    </tr>\n",
       "  </thead>\n",
       "  <tbody>\n",
       "    <tr>\n",
       "      <th>2</th>\n",
       "      <td>Gestão</td>\n",
       "      <td>16287302</td>\n",
       "    </tr>\n",
       "    <tr>\n",
       "      <th>0</th>\n",
       "      <td>Data Science</td>\n",
       "      <td>9155203</td>\n",
       "    </tr>\n",
       "    <tr>\n",
       "      <th>6</th>\n",
       "      <td>Tecnologia</td>\n",
       "      <td>7370702</td>\n",
       "    </tr>\n",
       "    <tr>\n",
       "      <th>4</th>\n",
       "      <td>Negócios</td>\n",
       "      <td>2135005</td>\n",
       "    </tr>\n",
       "    <tr>\n",
       "      <th>7</th>\n",
       "      <td>UX</td>\n",
       "      <td>1491626</td>\n",
       "    </tr>\n",
       "    <tr>\n",
       "      <th>1</th>\n",
       "      <td>DevOps</td>\n",
       "      <td>965373</td>\n",
       "    </tr>\n",
       "    <tr>\n",
       "      <th>5</th>\n",
       "      <td>Programação</td>\n",
       "      <td>494231</td>\n",
       "    </tr>\n",
       "    <tr>\n",
       "      <th>3</th>\n",
       "      <td>Marketing</td>\n",
       "      <td>127829</td>\n",
       "    </tr>\n",
       "  </tbody>\n",
       "</table>\n",
       "</div>"
      ],
      "text/plain": [
       "      Categoria  Visualizações\n",
       "2        Gestão       16287302\n",
       "0  Data Science        9155203\n",
       "6    Tecnologia        7370702\n",
       "4      Negócios        2135005\n",
       "7            UX        1491626\n",
       "1        DevOps         965373\n",
       "5   Programação         494231\n",
       "3     Marketing         127829"
      ]
     },
     "execution_count": 209,
     "metadata": {},
     "output_type": "execute_result"
    }
   ],
   "source": [
    "# Categorias por quantidade de visualizações\n",
    "dadosCategoriasVisualizacoes = dadosCategoriasVisualizacoes.sort_values(by=\"Visualizações\", ascending=False)\n",
    "dadosCategoriasVisualizacoes"
   ]
  },
  {
   "cell_type": "code",
   "execution_count": 210,
   "metadata": {},
   "outputs": [
    {
     "data": {
      "text/plain": [
       "<Axes: title={'center': 'Quantidade Visualizações por Catergoria'}, xlabel='Categoria'>"
      ]
     },
     "execution_count": 210,
     "metadata": {},
     "output_type": "execute_result"
    },
    {
     "data": {
      "image/png": "[encoded data removed]",
      "text/plain": [
       "<Figure size 640x480 with 1 Axes>"
      ]
     },
     "metadata": {},
     "output_type": "display_data"
    }
   ],
   "source": [
    "# Categorias por quantidade de visualizações - Gráfico\n",
    "dadosCategoriasVisualizacoes.plot.bar(title=\"Quantidade Visualizações por Catergoria\", x=\"Categoria\")"
   ]
  },
  {
   "cell_type": "code",
   "execution_count": 211,
   "metadata": {},
   "outputs": [
    {
     "data": {
      "text/html": [
       "<div>\n",
       "<style scoped>\n",
       "    .dataframe tbody tr th:only-of-type {\n",
       "        vertical-align: middle;\n",
       "    }\n",
       "\n",
       "    .dataframe tbody tr th {\n",
       "        vertical-align: top;\n",
       "    }\n",
       "\n",
       "    .dataframe thead th {\n",
       "        text-align: right;\n",
       "    }\n",
       "</style>\n",
       "<table border=\"1\" class=\"dataframe\">\n",
       "  <thead>\n",
       "    <tr style=\"text-align: right;\">\n",
       "      <th></th>\n",
       "      <th>Categoria</th>\n",
       "      <th>Tempo de leitura (minutos)</th>\n",
       "    </tr>\n",
       "  </thead>\n",
       "  <tbody>\n",
       "    <tr>\n",
       "      <th>2</th>\n",
       "      <td>Gestão</td>\n",
       "      <td>41993610</td>\n",
       "    </tr>\n",
       "    <tr>\n",
       "      <th>0</th>\n",
       "      <td>Data Science</td>\n",
       "      <td>22093495</td>\n",
       "    </tr>\n",
       "    <tr>\n",
       "      <th>6</th>\n",
       "      <td>Tecnologia</td>\n",
       "      <td>20084998</td>\n",
       "    </tr>\n",
       "    <tr>\n",
       "      <th>4</th>\n",
       "      <td>Negócios</td>\n",
       "      <td>5582875</td>\n",
       "    </tr>\n",
       "    <tr>\n",
       "      <th>7</th>\n",
       "      <td>UX</td>\n",
       "      <td>3716613</td>\n",
       "    </tr>\n",
       "    <tr>\n",
       "      <th>1</th>\n",
       "      <td>DevOps</td>\n",
       "      <td>2721188</td>\n",
       "    </tr>\n",
       "    <tr>\n",
       "      <th>5</th>\n",
       "      <td>Programação</td>\n",
       "      <td>1122330</td>\n",
       "    </tr>\n",
       "    <tr>\n",
       "      <th>3</th>\n",
       "      <td>Marketing</td>\n",
       "      <td>300412</td>\n",
       "    </tr>\n",
       "  </tbody>\n",
       "</table>\n",
       "</div>"
      ],
      "text/plain": [
       "      Categoria  Tempo de leitura (minutos)\n",
       "2        Gestão                    41993610\n",
       "0  Data Science                    22093495\n",
       "6    Tecnologia                    20084998\n",
       "4      Negócios                     5582875\n",
       "7            UX                     3716613\n",
       "1        DevOps                     2721188\n",
       "5   Programação                     1122330\n",
       "3     Marketing                      300412"
      ]
     },
     "execution_count": 211,
     "metadata": {},
     "output_type": "execute_result"
    }
   ],
   "source": [
    "# Agrupando categorias únicas e somando quantidade de tempo de leitura\n",
    "dadosCategoriasTempo = dados_artigos.groupby(\"Categoria\")[\"Tempo de leitura (minutos)\"].sum().reset_index()\n",
    "dadosCategoriasTempo = pd.DataFrame(dadosCategoriasTempo)\n",
    "dadosCategoriasTempo = dadosCategoriasTempo.sort_values(by=\"Tempo de leitura (minutos)\", ascending=False)\n",
    "dadosCategoriasTempo"
   ]
  },
  {
   "cell_type": "code",
   "execution_count": 226,
   "metadata": {},
   "outputs": [
    {
     "data": {
      "text/plain": [
       "Text(0.5, 1.0, 'Dispersão Categoria (Tempo de Leitura)')"
      ]
     },
     "execution_count": 226,
     "metadata": {},
     "output_type": "execute_result"
    },
    {
     "data": {
      "image/png": "[encoded data removed]",
      "text/plain": [
       "<Figure size 700x700 with 1 Axes>"
      ]
     },
     "metadata": {},
     "output_type": "display_data"
    }
   ],
   "source": [
    "# Categorias por tempo de leitura- Gráfico\n",
    "graficoTempoCategoria = dadosCategoriasTempo.plot.pie(y=\"Tempo de leitura (minutos)\", labels=lista_categorias, autopct='%1.1f%%', figsize=(7,7))\n",
    "graficoTempoCategoria.set_title(\"Dispersão Categoria (Tempo de Leitura)\")"
   ]
  },
  {
   "cell_type": "code",
   "execution_count": null,
   "metadata": {},
   "outputs": [],
   "source": []
  }
 ],
 "metadata": {
  "kernelspec": {
   "display_name": ".venv",
   "language": "python",
   "name": "python3"
  },
  "language_info": {
   "codemirror_mode": {
    "name": "ipython",
    "version": 3
   },
   "file_extension": ".py",
   "mimetype": "text/x-python",
   "name": "python",
   "nbconvert_exporter": "python",
   "pygments_lexer": "ipython3",
   "version": "3.10.6"
  },
  "orig_nbformat": 4
 },
 "nbformat": 4,
 "nbformat_minor": 2
}
